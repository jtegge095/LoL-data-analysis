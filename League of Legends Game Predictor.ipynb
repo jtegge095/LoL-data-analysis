{
 "cells": [
  {
   "cell_type": "markdown",
   "metadata": {},
   "source": [
    "## Dataset retrieved from kaggle.com ##\n",
    "\n",
    "This dataset was provided by DataSnaek, you can download the dataset [here](https://www.kaggle.com/datasnaek/league-of-legends)\n",
    "\n",
    "\n",
    "General Info (from dataSnaek):\n",
    "\n",
    "\"This is a collection of over 50,000 ranked games from the game League of Legends, as well as json files containing a way to convert between champion and summoner spell IDs and their names. For each game, there are fields for:\n",
    "\n",
    "    Game ID\n",
    "    Game Duration (in seconds)\n",
    "    Season ID\n",
    "    Winner (0 = team1, 1 = team2)\n",
    "    First Baron, dragon, tower, blood, inhibitor and Rift Herald (0 = team1, 1 = team2)\n",
    "    Champions and summoner spells for each team (Stored as Riot's champion and summoner spell IDs)\n",
    "    The number of tower, inhibitor, Baron, dragon and Rift Herald kills each team has\n",
    "    The 5 bans of each team (Again, champion IDs are used)\n",
    "\n",
    "This dataset was collected using the Riot Games API, which makes it easy to lookup and collect information on a users ranked history and collect their games. However finding a list of usernames is the hard part, in this case I am using a list of usernames scraped from 3rd party LoL sites.\n",
    "\n",
    "Possible Uses\n",
    "\n",
    "There is a vast amount of data in just a single LoL game. This dataset takes the most relevant information and makes it available easily for use in things such as attempting to predict the outcome of a LoL game, analysing which in-game events are most likely to lead to victory, understanding how big of an effect bans of a specific champion have, and more.\""
   ]
  },
  {
   "cell_type": "code",
   "execution_count": 1,
   "metadata": {},
   "outputs": [],
   "source": [
    "import pandas as pd\n",
    "import numpy as np\n",
    "import matplotlib.pyplot as plt\n",
    "import seaborn as sns\n",
    "sns.set_style('darkgrid')\n",
    "%matplotlib inline"
   ]
  },
  {
   "cell_type": "code",
   "execution_count": 2,
   "metadata": {},
   "outputs": [],
   "source": [
    "data = pd.read_csv('games.csv')"
   ]
  },
  {
   "cell_type": "code",
   "execution_count": 3,
   "metadata": {},
   "outputs": [
    {
     "data": {
      "text/html": [
       "<div>\n",
       "<style>\n",
       "    .dataframe thead tr:only-child th {\n",
       "        text-align: right;\n",
       "    }\n",
       "\n",
       "    .dataframe thead th {\n",
       "        text-align: left;\n",
       "    }\n",
       "\n",
       "    .dataframe tbody tr th {\n",
       "        vertical-align: top;\n",
       "    }\n",
       "</style>\n",
       "<table border=\"1\" class=\"dataframe\">\n",
       "  <thead>\n",
       "    <tr style=\"text-align: right;\">\n",
       "      <th></th>\n",
       "      <th>gameId</th>\n",
       "      <th>gameDuration</th>\n",
       "      <th>seasonId</th>\n",
       "      <th>winner</th>\n",
       "      <th>firstBlood</th>\n",
       "      <th>firstTower</th>\n",
       "      <th>firstInhibitor</th>\n",
       "      <th>firstBaron</th>\n",
       "      <th>firstDragon</th>\n",
       "      <th>firstRiftHerald</th>\n",
       "      <th>...</th>\n",
       "      <th>t2_towerKills</th>\n",
       "      <th>t2_inhibitorKills</th>\n",
       "      <th>t2_baronKills</th>\n",
       "      <th>t2_dragonKills</th>\n",
       "      <th>t2_riftHeraldKills</th>\n",
       "      <th>t2_ban1</th>\n",
       "      <th>t2_ban2</th>\n",
       "      <th>t2_ban3</th>\n",
       "      <th>t2_ban4</th>\n",
       "      <th>t2_ban5</th>\n",
       "    </tr>\n",
       "  </thead>\n",
       "  <tbody>\n",
       "    <tr>\n",
       "      <th>0</th>\n",
       "      <td>3326086514</td>\n",
       "      <td>1949</td>\n",
       "      <td>9</td>\n",
       "      <td>0</td>\n",
       "      <td>0</td>\n",
       "      <td>1</td>\n",
       "      <td>1</td>\n",
       "      <td>1</td>\n",
       "      <td>1</td>\n",
       "      <td>0</td>\n",
       "      <td>...</td>\n",
       "      <td>5</td>\n",
       "      <td>0</td>\n",
       "      <td>0</td>\n",
       "      <td>1</td>\n",
       "      <td>1</td>\n",
       "      <td>114</td>\n",
       "      <td>67</td>\n",
       "      <td>43</td>\n",
       "      <td>16</td>\n",
       "      <td>51</td>\n",
       "    </tr>\n",
       "    <tr>\n",
       "      <th>1</th>\n",
       "      <td>3229566029</td>\n",
       "      <td>1851</td>\n",
       "      <td>9</td>\n",
       "      <td>0</td>\n",
       "      <td>1</td>\n",
       "      <td>1</td>\n",
       "      <td>1</td>\n",
       "      <td>0</td>\n",
       "      <td>1</td>\n",
       "      <td>1</td>\n",
       "      <td>...</td>\n",
       "      <td>2</td>\n",
       "      <td>0</td>\n",
       "      <td>0</td>\n",
       "      <td>0</td>\n",
       "      <td>0</td>\n",
       "      <td>11</td>\n",
       "      <td>67</td>\n",
       "      <td>238</td>\n",
       "      <td>51</td>\n",
       "      <td>420</td>\n",
       "    </tr>\n",
       "    <tr>\n",
       "      <th>2</th>\n",
       "      <td>3327363504</td>\n",
       "      <td>1493</td>\n",
       "      <td>9</td>\n",
       "      <td>0</td>\n",
       "      <td>0</td>\n",
       "      <td>1</td>\n",
       "      <td>1</td>\n",
       "      <td>1</td>\n",
       "      <td>0</td>\n",
       "      <td>0</td>\n",
       "      <td>...</td>\n",
       "      <td>2</td>\n",
       "      <td>0</td>\n",
       "      <td>0</td>\n",
       "      <td>1</td>\n",
       "      <td>0</td>\n",
       "      <td>157</td>\n",
       "      <td>238</td>\n",
       "      <td>121</td>\n",
       "      <td>57</td>\n",
       "      <td>28</td>\n",
       "    </tr>\n",
       "    <tr>\n",
       "      <th>3</th>\n",
       "      <td>3326856598</td>\n",
       "      <td>1758</td>\n",
       "      <td>9</td>\n",
       "      <td>0</td>\n",
       "      <td>1</td>\n",
       "      <td>1</td>\n",
       "      <td>1</td>\n",
       "      <td>1</td>\n",
       "      <td>1</td>\n",
       "      <td>0</td>\n",
       "      <td>...</td>\n",
       "      <td>0</td>\n",
       "      <td>0</td>\n",
       "      <td>0</td>\n",
       "      <td>0</td>\n",
       "      <td>0</td>\n",
       "      <td>164</td>\n",
       "      <td>18</td>\n",
       "      <td>141</td>\n",
       "      <td>40</td>\n",
       "      <td>51</td>\n",
       "    </tr>\n",
       "    <tr>\n",
       "      <th>4</th>\n",
       "      <td>3330080762</td>\n",
       "      <td>2094</td>\n",
       "      <td>9</td>\n",
       "      <td>0</td>\n",
       "      <td>0</td>\n",
       "      <td>1</td>\n",
       "      <td>1</td>\n",
       "      <td>1</td>\n",
       "      <td>1</td>\n",
       "      <td>0</td>\n",
       "      <td>...</td>\n",
       "      <td>3</td>\n",
       "      <td>0</td>\n",
       "      <td>0</td>\n",
       "      <td>1</td>\n",
       "      <td>0</td>\n",
       "      <td>86</td>\n",
       "      <td>11</td>\n",
       "      <td>201</td>\n",
       "      <td>122</td>\n",
       "      <td>18</td>\n",
       "    </tr>\n",
       "  </tbody>\n",
       "</table>\n",
       "<p>5 rows × 60 columns</p>\n",
       "</div>"
      ],
      "text/plain": [
       "       gameId  gameDuration  seasonId  winner  firstBlood  firstTower  \\\n",
       "0  3326086514          1949         9       0           0           1   \n",
       "1  3229566029          1851         9       0           1           1   \n",
       "2  3327363504          1493         9       0           0           1   \n",
       "3  3326856598          1758         9       0           1           1   \n",
       "4  3330080762          2094         9       0           0           1   \n",
       "\n",
       "   firstInhibitor  firstBaron  firstDragon  firstRiftHerald   ...     \\\n",
       "0               1           1            1                0   ...      \n",
       "1               1           0            1                1   ...      \n",
       "2               1           1            0                0   ...      \n",
       "3               1           1            1                0   ...      \n",
       "4               1           1            1                0   ...      \n",
       "\n",
       "   t2_towerKills  t2_inhibitorKills  t2_baronKills  t2_dragonKills  \\\n",
       "0              5                  0              0               1   \n",
       "1              2                  0              0               0   \n",
       "2              2                  0              0               1   \n",
       "3              0                  0              0               0   \n",
       "4              3                  0              0               1   \n",
       "\n",
       "   t2_riftHeraldKills  t2_ban1  t2_ban2  t2_ban3  t2_ban4  t2_ban5  \n",
       "0                   1      114       67       43       16       51  \n",
       "1                   0       11       67      238       51      420  \n",
       "2                   0      157      238      121       57       28  \n",
       "3                   0      164       18      141       40       51  \n",
       "4                   0       86       11      201      122       18  \n",
       "\n",
       "[5 rows x 60 columns]"
      ]
     },
     "execution_count": 3,
     "metadata": {},
     "output_type": "execute_result"
    }
   ],
   "source": [
    "data.head()"
   ]
  },
  {
   "cell_type": "code",
   "execution_count": 4,
   "metadata": {},
   "outputs": [
    {
     "data": {
      "text/html": [
       "<div>\n",
       "<style>\n",
       "    .dataframe thead tr:only-child th {\n",
       "        text-align: right;\n",
       "    }\n",
       "\n",
       "    .dataframe thead th {\n",
       "        text-align: left;\n",
       "    }\n",
       "\n",
       "    .dataframe tbody tr th {\n",
       "        vertical-align: top;\n",
       "    }\n",
       "</style>\n",
       "<table border=\"1\" class=\"dataframe\">\n",
       "  <thead>\n",
       "    <tr style=\"text-align: right;\">\n",
       "      <th></th>\n",
       "      <th>gameId</th>\n",
       "      <th>gameDuration</th>\n",
       "      <th>seasonId</th>\n",
       "      <th>winner</th>\n",
       "      <th>firstBlood</th>\n",
       "      <th>firstTower</th>\n",
       "      <th>firstInhibitor</th>\n",
       "      <th>firstBaron</th>\n",
       "      <th>firstDragon</th>\n",
       "      <th>firstRiftHerald</th>\n",
       "      <th>...</th>\n",
       "      <th>t2_towerKills</th>\n",
       "      <th>t2_inhibitorKills</th>\n",
       "      <th>t2_baronKills</th>\n",
       "      <th>t2_dragonKills</th>\n",
       "      <th>t2_riftHeraldKills</th>\n",
       "      <th>t2_ban1</th>\n",
       "      <th>t2_ban2</th>\n",
       "      <th>t2_ban3</th>\n",
       "      <th>t2_ban4</th>\n",
       "      <th>t2_ban5</th>\n",
       "    </tr>\n",
       "  </thead>\n",
       "  <tbody>\n",
       "    <tr>\n",
       "      <th>count</th>\n",
       "      <td>5.153600e+04</td>\n",
       "      <td>51536.000000</td>\n",
       "      <td>51536.0</td>\n",
       "      <td>51536.000000</td>\n",
       "      <td>51536.000000</td>\n",
       "      <td>51536.000000</td>\n",
       "      <td>51536.000000</td>\n",
       "      <td>51536.000000</td>\n",
       "      <td>51536.000000</td>\n",
       "      <td>51536.000000</td>\n",
       "      <td>...</td>\n",
       "      <td>51536.000000</td>\n",
       "      <td>51536.000000</td>\n",
       "      <td>51536.000000</td>\n",
       "      <td>51536.000000</td>\n",
       "      <td>51536.000000</td>\n",
       "      <td>51536.000000</td>\n",
       "      <td>51536.000000</td>\n",
       "      <td>51536.000000</td>\n",
       "      <td>51536.000000</td>\n",
       "      <td>51536.000000</td>\n",
       "    </tr>\n",
       "    <tr>\n",
       "      <th>mean</th>\n",
       "      <td>3.306218e+09</td>\n",
       "      <td>1832.433658</td>\n",
       "      <td>9.0</td>\n",
       "      <td>0.493577</td>\n",
       "      <td>0.507141</td>\n",
       "      <td>0.502134</td>\n",
       "      <td>0.447765</td>\n",
       "      <td>0.286654</td>\n",
       "      <td>0.479471</td>\n",
       "      <td>0.251416</td>\n",
       "      <td>...</td>\n",
       "      <td>5.549849</td>\n",
       "      <td>0.985078</td>\n",
       "      <td>0.414565</td>\n",
       "      <td>1.404397</td>\n",
       "      <td>0.240220</td>\n",
       "      <td>108.203605</td>\n",
       "      <td>107.957991</td>\n",
       "      <td>108.686666</td>\n",
       "      <td>108.636196</td>\n",
       "      <td>108.081031</td>\n",
       "    </tr>\n",
       "    <tr>\n",
       "      <th>std</th>\n",
       "      <td>2.946137e+07</td>\n",
       "      <td>511.935772</td>\n",
       "      <td>0.0</td>\n",
       "      <td>0.499964</td>\n",
       "      <td>0.499954</td>\n",
       "      <td>0.500000</td>\n",
       "      <td>0.497269</td>\n",
       "      <td>0.452203</td>\n",
       "      <td>0.499583</td>\n",
       "      <td>0.433832</td>\n",
       "      <td>...</td>\n",
       "      <td>3.860701</td>\n",
       "      <td>1.256318</td>\n",
       "      <td>0.613800</td>\n",
       "      <td>1.224289</td>\n",
       "      <td>0.427221</td>\n",
       "      <td>102.538299</td>\n",
       "      <td>102.938916</td>\n",
       "      <td>102.592143</td>\n",
       "      <td>103.356702</td>\n",
       "      <td>102.762418</td>\n",
       "    </tr>\n",
       "    <tr>\n",
       "      <th>min</th>\n",
       "      <td>3.214824e+09</td>\n",
       "      <td>190.000000</td>\n",
       "      <td>9.0</td>\n",
       "      <td>0.000000</td>\n",
       "      <td>0.000000</td>\n",
       "      <td>0.000000</td>\n",
       "      <td>0.000000</td>\n",
       "      <td>0.000000</td>\n",
       "      <td>0.000000</td>\n",
       "      <td>0.000000</td>\n",
       "      <td>...</td>\n",
       "      <td>0.000000</td>\n",
       "      <td>0.000000</td>\n",
       "      <td>0.000000</td>\n",
       "      <td>0.000000</td>\n",
       "      <td>0.000000</td>\n",
       "      <td>-1.000000</td>\n",
       "      <td>-1.000000</td>\n",
       "      <td>-1.000000</td>\n",
       "      <td>-1.000000</td>\n",
       "      <td>-1.000000</td>\n",
       "    </tr>\n",
       "    <tr>\n",
       "      <th>25%</th>\n",
       "      <td>3.292212e+09</td>\n",
       "      <td>1531.000000</td>\n",
       "      <td>9.0</td>\n",
       "      <td>0.000000</td>\n",
       "      <td>0.000000</td>\n",
       "      <td>0.000000</td>\n",
       "      <td>0.000000</td>\n",
       "      <td>0.000000</td>\n",
       "      <td>0.000000</td>\n",
       "      <td>0.000000</td>\n",
       "      <td>...</td>\n",
       "      <td>2.000000</td>\n",
       "      <td>0.000000</td>\n",
       "      <td>0.000000</td>\n",
       "      <td>0.000000</td>\n",
       "      <td>0.000000</td>\n",
       "      <td>38.000000</td>\n",
       "      <td>37.000000</td>\n",
       "      <td>38.000000</td>\n",
       "      <td>38.000000</td>\n",
       "      <td>38.000000</td>\n",
       "    </tr>\n",
       "    <tr>\n",
       "      <th>50%</th>\n",
       "      <td>3.319969e+09</td>\n",
       "      <td>1833.000000</td>\n",
       "      <td>9.0</td>\n",
       "      <td>0.000000</td>\n",
       "      <td>1.000000</td>\n",
       "      <td>1.000000</td>\n",
       "      <td>0.000000</td>\n",
       "      <td>0.000000</td>\n",
       "      <td>0.000000</td>\n",
       "      <td>0.000000</td>\n",
       "      <td>...</td>\n",
       "      <td>6.000000</td>\n",
       "      <td>0.000000</td>\n",
       "      <td>0.000000</td>\n",
       "      <td>1.000000</td>\n",
       "      <td>0.000000</td>\n",
       "      <td>90.000000</td>\n",
       "      <td>90.000000</td>\n",
       "      <td>90.000000</td>\n",
       "      <td>90.000000</td>\n",
       "      <td>90.000000</td>\n",
       "    </tr>\n",
       "    <tr>\n",
       "      <th>75%</th>\n",
       "      <td>3.327097e+09</td>\n",
       "      <td>2148.000000</td>\n",
       "      <td>9.0</td>\n",
       "      <td>1.000000</td>\n",
       "      <td>1.000000</td>\n",
       "      <td>1.000000</td>\n",
       "      <td>1.000000</td>\n",
       "      <td>1.000000</td>\n",
       "      <td>1.000000</td>\n",
       "      <td>1.000000</td>\n",
       "      <td>...</td>\n",
       "      <td>9.000000</td>\n",
       "      <td>2.000000</td>\n",
       "      <td>1.000000</td>\n",
       "      <td>2.000000</td>\n",
       "      <td>0.000000</td>\n",
       "      <td>141.000000</td>\n",
       "      <td>141.000000</td>\n",
       "      <td>141.000000</td>\n",
       "      <td>141.000000</td>\n",
       "      <td>141.000000</td>\n",
       "    </tr>\n",
       "    <tr>\n",
       "      <th>max</th>\n",
       "      <td>3.331833e+09</td>\n",
       "      <td>4728.000000</td>\n",
       "      <td>9.0</td>\n",
       "      <td>1.000000</td>\n",
       "      <td>1.000000</td>\n",
       "      <td>1.000000</td>\n",
       "      <td>1.000000</td>\n",
       "      <td>1.000000</td>\n",
       "      <td>1.000000</td>\n",
       "      <td>1.000000</td>\n",
       "      <td>...</td>\n",
       "      <td>11.000000</td>\n",
       "      <td>10.000000</td>\n",
       "      <td>4.000000</td>\n",
       "      <td>6.000000</td>\n",
       "      <td>1.000000</td>\n",
       "      <td>516.000000</td>\n",
       "      <td>516.000000</td>\n",
       "      <td>516.000000</td>\n",
       "      <td>516.000000</td>\n",
       "      <td>516.000000</td>\n",
       "    </tr>\n",
       "  </tbody>\n",
       "</table>\n",
       "<p>8 rows × 60 columns</p>\n",
       "</div>"
      ],
      "text/plain": [
       "             gameId  gameDuration  seasonId        winner    firstBlood  \\\n",
       "count  5.153600e+04  51536.000000   51536.0  51536.000000  51536.000000   \n",
       "mean   3.306218e+09   1832.433658       9.0      0.493577      0.507141   \n",
       "std    2.946137e+07    511.935772       0.0      0.499964      0.499954   \n",
       "min    3.214824e+09    190.000000       9.0      0.000000      0.000000   \n",
       "25%    3.292212e+09   1531.000000       9.0      0.000000      0.000000   \n",
       "50%    3.319969e+09   1833.000000       9.0      0.000000      1.000000   \n",
       "75%    3.327097e+09   2148.000000       9.0      1.000000      1.000000   \n",
       "max    3.331833e+09   4728.000000       9.0      1.000000      1.000000   \n",
       "\n",
       "         firstTower  firstInhibitor    firstBaron   firstDragon  \\\n",
       "count  51536.000000    51536.000000  51536.000000  51536.000000   \n",
       "mean       0.502134        0.447765      0.286654      0.479471   \n",
       "std        0.500000        0.497269      0.452203      0.499583   \n",
       "min        0.000000        0.000000      0.000000      0.000000   \n",
       "25%        0.000000        0.000000      0.000000      0.000000   \n",
       "50%        1.000000        0.000000      0.000000      0.000000   \n",
       "75%        1.000000        1.000000      1.000000      1.000000   \n",
       "max        1.000000        1.000000      1.000000      1.000000   \n",
       "\n",
       "       firstRiftHerald      ...       t2_towerKills  t2_inhibitorKills  \\\n",
       "count     51536.000000      ...        51536.000000       51536.000000   \n",
       "mean          0.251416      ...            5.549849           0.985078   \n",
       "std           0.433832      ...            3.860701           1.256318   \n",
       "min           0.000000      ...            0.000000           0.000000   \n",
       "25%           0.000000      ...            2.000000           0.000000   \n",
       "50%           0.000000      ...            6.000000           0.000000   \n",
       "75%           1.000000      ...            9.000000           2.000000   \n",
       "max           1.000000      ...           11.000000          10.000000   \n",
       "\n",
       "       t2_baronKills  t2_dragonKills  t2_riftHeraldKills       t2_ban1  \\\n",
       "count   51536.000000    51536.000000        51536.000000  51536.000000   \n",
       "mean        0.414565        1.404397            0.240220    108.203605   \n",
       "std         0.613800        1.224289            0.427221    102.538299   \n",
       "min         0.000000        0.000000            0.000000     -1.000000   \n",
       "25%         0.000000        0.000000            0.000000     38.000000   \n",
       "50%         0.000000        1.000000            0.000000     90.000000   \n",
       "75%         1.000000        2.000000            0.000000    141.000000   \n",
       "max         4.000000        6.000000            1.000000    516.000000   \n",
       "\n",
       "            t2_ban2       t2_ban3       t2_ban4       t2_ban5  \n",
       "count  51536.000000  51536.000000  51536.000000  51536.000000  \n",
       "mean     107.957991    108.686666    108.636196    108.081031  \n",
       "std      102.938916    102.592143    103.356702    102.762418  \n",
       "min       -1.000000     -1.000000     -1.000000     -1.000000  \n",
       "25%       37.000000     38.000000     38.000000     38.000000  \n",
       "50%       90.000000     90.000000     90.000000     90.000000  \n",
       "75%      141.000000    141.000000    141.000000    141.000000  \n",
       "max      516.000000    516.000000    516.000000    516.000000  \n",
       "\n",
       "[8 rows x 60 columns]"
      ]
     },
     "execution_count": 4,
     "metadata": {},
     "output_type": "execute_result"
    }
   ],
   "source": [
    "data.describe()"
   ]
  },
  {
   "cell_type": "code",
   "execution_count": 5,
   "metadata": {},
   "outputs": [],
   "source": [
    "data.rename(columns={'gameDuration': 'gameLength (seconds)'}, inplace=True)"
   ]
  },
  {
   "cell_type": "code",
   "execution_count": 6,
   "metadata": {},
   "outputs": [],
   "source": [
    "data['gameLength (minutes)'] = data['gameLength (seconds)'].apply(lambda x: x//60)"
   ]
  },
  {
   "cell_type": "code",
   "execution_count": 7,
   "metadata": {},
   "outputs": [],
   "source": [
    "data = data[['gameId', 'gameLength (seconds)', 'gameLength (minutes)', 'seasonId', 'winner', 'firstBlood',\n",
    "       'firstTower', 'firstInhibitor', 'firstBaron', 'firstDragon',\n",
    "       'firstRiftHerald', 't1_champ1id', 't1_champ1_sum1', 't1_champ1_sum2',\n",
    "       't1_champ2id', 't1_champ2_sum1', 't1_champ2_sum2', 't1_champ3id',\n",
    "       't1_champ3_sum1', 't1_champ3_sum2', 't1_champ4id', 't1_champ4_sum1',\n",
    "       't1_champ4_sum2', 't1_champ5id', 't1_champ5_sum1', 't1_champ5_sum2',\n",
    "       't1_towerKills', 't1_inhibitorKills', 't1_baronKills', 't1_dragonKills',\n",
    "       't1_riftHeraldKills', 't1_ban1', 't1_ban2', 't1_ban3', 't1_ban4',\n",
    "       't1_ban5', 't2_champ1id', 't2_champ1_sum1', 't2_champ1_sum2',\n",
    "       't2_champ2id', 't2_champ2_sum1', 't2_champ2_sum2', 't2_champ3id',\n",
    "       't2_champ3_sum1', 't2_champ3_sum2', 't2_champ4id', 't2_champ4_sum1',\n",
    "       't2_champ4_sum2', 't2_champ5id', 't2_champ5_sum1', 't2_champ5_sum2',\n",
    "       't2_towerKills', 't2_inhibitorKills', 't2_baronKills', 't2_dragonKills',\n",
    "       't2_riftHeraldKills', 't2_ban1', 't2_ban2', 't2_ban3', 't2_ban4',\n",
    "       't2_ban5']]"
   ]
  },
  {
   "cell_type": "code",
   "execution_count": 8,
   "metadata": {},
   "outputs": [
    {
     "data": {
      "text/html": [
       "<div>\n",
       "<style>\n",
       "    .dataframe thead tr:only-child th {\n",
       "        text-align: right;\n",
       "    }\n",
       "\n",
       "    .dataframe thead th {\n",
       "        text-align: left;\n",
       "    }\n",
       "\n",
       "    .dataframe tbody tr th {\n",
       "        vertical-align: top;\n",
       "    }\n",
       "</style>\n",
       "<table border=\"1\" class=\"dataframe\">\n",
       "  <thead>\n",
       "    <tr style=\"text-align: right;\">\n",
       "      <th></th>\n",
       "      <th>gameId</th>\n",
       "      <th>gameLength (seconds)</th>\n",
       "      <th>gameLength (minutes)</th>\n",
       "      <th>seasonId</th>\n",
       "      <th>winner</th>\n",
       "      <th>firstBlood</th>\n",
       "      <th>firstTower</th>\n",
       "      <th>firstInhibitor</th>\n",
       "      <th>firstBaron</th>\n",
       "      <th>firstDragon</th>\n",
       "      <th>...</th>\n",
       "      <th>t2_towerKills</th>\n",
       "      <th>t2_inhibitorKills</th>\n",
       "      <th>t2_baronKills</th>\n",
       "      <th>t2_dragonKills</th>\n",
       "      <th>t2_riftHeraldKills</th>\n",
       "      <th>t2_ban1</th>\n",
       "      <th>t2_ban2</th>\n",
       "      <th>t2_ban3</th>\n",
       "      <th>t2_ban4</th>\n",
       "      <th>t2_ban5</th>\n",
       "    </tr>\n",
       "  </thead>\n",
       "  <tbody>\n",
       "    <tr>\n",
       "      <th>0</th>\n",
       "      <td>3326086514</td>\n",
       "      <td>1949</td>\n",
       "      <td>32</td>\n",
       "      <td>9</td>\n",
       "      <td>0</td>\n",
       "      <td>0</td>\n",
       "      <td>1</td>\n",
       "      <td>1</td>\n",
       "      <td>1</td>\n",
       "      <td>1</td>\n",
       "      <td>...</td>\n",
       "      <td>5</td>\n",
       "      <td>0</td>\n",
       "      <td>0</td>\n",
       "      <td>1</td>\n",
       "      <td>1</td>\n",
       "      <td>114</td>\n",
       "      <td>67</td>\n",
       "      <td>43</td>\n",
       "      <td>16</td>\n",
       "      <td>51</td>\n",
       "    </tr>\n",
       "    <tr>\n",
       "      <th>1</th>\n",
       "      <td>3229566029</td>\n",
       "      <td>1851</td>\n",
       "      <td>30</td>\n",
       "      <td>9</td>\n",
       "      <td>0</td>\n",
       "      <td>1</td>\n",
       "      <td>1</td>\n",
       "      <td>1</td>\n",
       "      <td>0</td>\n",
       "      <td>1</td>\n",
       "      <td>...</td>\n",
       "      <td>2</td>\n",
       "      <td>0</td>\n",
       "      <td>0</td>\n",
       "      <td>0</td>\n",
       "      <td>0</td>\n",
       "      <td>11</td>\n",
       "      <td>67</td>\n",
       "      <td>238</td>\n",
       "      <td>51</td>\n",
       "      <td>420</td>\n",
       "    </tr>\n",
       "    <tr>\n",
       "      <th>2</th>\n",
       "      <td>3327363504</td>\n",
       "      <td>1493</td>\n",
       "      <td>24</td>\n",
       "      <td>9</td>\n",
       "      <td>0</td>\n",
       "      <td>0</td>\n",
       "      <td>1</td>\n",
       "      <td>1</td>\n",
       "      <td>1</td>\n",
       "      <td>0</td>\n",
       "      <td>...</td>\n",
       "      <td>2</td>\n",
       "      <td>0</td>\n",
       "      <td>0</td>\n",
       "      <td>1</td>\n",
       "      <td>0</td>\n",
       "      <td>157</td>\n",
       "      <td>238</td>\n",
       "      <td>121</td>\n",
       "      <td>57</td>\n",
       "      <td>28</td>\n",
       "    </tr>\n",
       "    <tr>\n",
       "      <th>3</th>\n",
       "      <td>3326856598</td>\n",
       "      <td>1758</td>\n",
       "      <td>29</td>\n",
       "      <td>9</td>\n",
       "      <td>0</td>\n",
       "      <td>1</td>\n",
       "      <td>1</td>\n",
       "      <td>1</td>\n",
       "      <td>1</td>\n",
       "      <td>1</td>\n",
       "      <td>...</td>\n",
       "      <td>0</td>\n",
       "      <td>0</td>\n",
       "      <td>0</td>\n",
       "      <td>0</td>\n",
       "      <td>0</td>\n",
       "      <td>164</td>\n",
       "      <td>18</td>\n",
       "      <td>141</td>\n",
       "      <td>40</td>\n",
       "      <td>51</td>\n",
       "    </tr>\n",
       "    <tr>\n",
       "      <th>4</th>\n",
       "      <td>3330080762</td>\n",
       "      <td>2094</td>\n",
       "      <td>34</td>\n",
       "      <td>9</td>\n",
       "      <td>0</td>\n",
       "      <td>0</td>\n",
       "      <td>1</td>\n",
       "      <td>1</td>\n",
       "      <td>1</td>\n",
       "      <td>1</td>\n",
       "      <td>...</td>\n",
       "      <td>3</td>\n",
       "      <td>0</td>\n",
       "      <td>0</td>\n",
       "      <td>1</td>\n",
       "      <td>0</td>\n",
       "      <td>86</td>\n",
       "      <td>11</td>\n",
       "      <td>201</td>\n",
       "      <td>122</td>\n",
       "      <td>18</td>\n",
       "    </tr>\n",
       "  </tbody>\n",
       "</table>\n",
       "<p>5 rows × 61 columns</p>\n",
       "</div>"
      ],
      "text/plain": [
       "       gameId  gameLength (seconds)  gameLength (minutes)  seasonId  winner  \\\n",
       "0  3326086514                  1949                    32         9       0   \n",
       "1  3229566029                  1851                    30         9       0   \n",
       "2  3327363504                  1493                    24         9       0   \n",
       "3  3326856598                  1758                    29         9       0   \n",
       "4  3330080762                  2094                    34         9       0   \n",
       "\n",
       "   firstBlood  firstTower  firstInhibitor  firstBaron  firstDragon   ...     \\\n",
       "0           0           1               1           1            1   ...      \n",
       "1           1           1               1           0            1   ...      \n",
       "2           0           1               1           1            0   ...      \n",
       "3           1           1               1           1            1   ...      \n",
       "4           0           1               1           1            1   ...      \n",
       "\n",
       "   t2_towerKills  t2_inhibitorKills  t2_baronKills  t2_dragonKills  \\\n",
       "0              5                  0              0               1   \n",
       "1              2                  0              0               0   \n",
       "2              2                  0              0               1   \n",
       "3              0                  0              0               0   \n",
       "4              3                  0              0               1   \n",
       "\n",
       "   t2_riftHeraldKills  t2_ban1  t2_ban2  t2_ban3  t2_ban4  t2_ban5  \n",
       "0                   1      114       67       43       16       51  \n",
       "1                   0       11       67      238       51      420  \n",
       "2                   0      157      238      121       57       28  \n",
       "3                   0      164       18      141       40       51  \n",
       "4                   0       86       11      201      122       18  \n",
       "\n",
       "[5 rows x 61 columns]"
      ]
     },
     "execution_count": 8,
     "metadata": {},
     "output_type": "execute_result"
    }
   ],
   "source": [
    "data.head()"
   ]
  },
  {
   "cell_type": "code",
   "execution_count": 9,
   "metadata": {},
   "outputs": [
    {
     "data": {
      "text/plain": [
       "<matplotlib.axes._subplots.AxesSubplot at 0x7fda9bcc30b8>"
      ]
     },
     "execution_count": 9,
     "metadata": {},
     "output_type": "execute_result"
    },
    {
     "data": {
      "image/png": "[encoded data removed]",
      "text/plain": [
       "<matplotlib.figure.Figure at 0x7fda9bcdb908>"
      ]
     },
     "metadata": {},
     "output_type": "display_data"
    }
   ],
   "source": [
    "sns.distplot(data['t1_baronKills'])"
   ]
  },
  {
   "cell_type": "code",
   "execution_count": 10,
   "metadata": {},
   "outputs": [
    {
     "data": {
      "text/plain": [
       "<matplotlib.axes._subplots.AxesSubplot at 0x7fda9b943860>"
      ]
     },
     "execution_count": 10,
     "metadata": {},
     "output_type": "execute_result"
    },
    {
     "data": {
      "image/png": "[encoded data removed]",
      "text/plain": [
       "<matplotlib.figure.Figure at 0x7fda9bc7ff98>"
      ]
     },
     "metadata": {},
     "output_type": "display_data"
    }
   ],
   "source": [
    "fig, (ax1, ax2, ax3, ax4, ax5) = plt.subplots(ncols=5, sharey=True, figsize=(20,5))\n",
    "sns.distplot(data['firstTower'],ax=ax1,kde=False)\n",
    "sns.distplot(data['firstInhibitor'],ax=ax2,kde=False)\n",
    "sns.distplot(data['firstRiftHerald'],ax=ax3, kde=False)\n",
    "sns.distplot(data['firstBaron'],ax=ax4,kde=False)\n",
    "sns.distplot(data['firstDragon'],ax=ax5, kde=False)"
   ]
  },
  {
   "cell_type": "code",
   "execution_count": 11,
   "metadata": {},
   "outputs": [
    {
     "data": {
      "text/plain": [
       "8"
      ]
     },
     "execution_count": 11,
     "metadata": {},
     "output_type": "execute_result"
    }
   ],
   "source": [
    "data['t1_champ1id'][0]"
   ]
  },
  {
   "cell_type": "markdown",
   "metadata": {},
   "source": [
    "Using the JSON given to retrieve champion names"
   ]
  },
  {
   "cell_type": "code",
   "execution_count": 12,
   "metadata": {},
   "outputs": [],
   "source": [
    "import json"
   ]
  },
  {
   "cell_type": "code",
   "execution_count": 13,
   "metadata": {},
   "outputs": [
    {
     "data": {
      "text/html": [
       "<div>\n",
       "<style>\n",
       "    .dataframe thead tr:only-child th {\n",
       "        text-align: right;\n",
       "    }\n",
       "\n",
       "    .dataframe thead th {\n",
       "        text-align: left;\n",
       "    }\n",
       "\n",
       "    .dataframe tbody tr th {\n",
       "        vertical-align: top;\n",
       "    }\n",
       "</style>\n",
       "<table border=\"1\" class=\"dataframe\">\n",
       "  <thead>\n",
       "    <tr style=\"text-align: right;\">\n",
       "      <th></th>\n",
       "      <th>key</th>\n",
       "      <th>name</th>\n",
       "      <th>tags</th>\n",
       "      <th>title</th>\n",
       "    </tr>\n",
       "    <tr>\n",
       "      <th>id</th>\n",
       "      <th></th>\n",
       "      <th></th>\n",
       "      <th></th>\n",
       "      <th></th>\n",
       "    </tr>\n",
       "  </thead>\n",
       "  <tbody>\n",
       "    <tr>\n",
       "      <th>266</th>\n",
       "      <td>Aatrox</td>\n",
       "      <td>Aatrox</td>\n",
       "      <td>[Fighter, Tank]</td>\n",
       "      <td>the Darkin Blade</td>\n",
       "    </tr>\n",
       "    <tr>\n",
       "      <th>103</th>\n",
       "      <td>Ahri</td>\n",
       "      <td>Ahri</td>\n",
       "      <td>[Mage, Assassin]</td>\n",
       "      <td>the Nine-Tailed Fox</td>\n",
       "    </tr>\n",
       "    <tr>\n",
       "      <th>84</th>\n",
       "      <td>Akali</td>\n",
       "      <td>Akali</td>\n",
       "      <td>[Assassin]</td>\n",
       "      <td>the Fist of Shadow</td>\n",
       "    </tr>\n",
       "    <tr>\n",
       "      <th>12</th>\n",
       "      <td>Alistar</td>\n",
       "      <td>Alistar</td>\n",
       "      <td>[Tank, Support]</td>\n",
       "      <td>the Minotaur</td>\n",
       "    </tr>\n",
       "    <tr>\n",
       "      <th>32</th>\n",
       "      <td>Amumu</td>\n",
       "      <td>Amumu</td>\n",
       "      <td>[Tank, Mage]</td>\n",
       "      <td>the Sad Mummy</td>\n",
       "    </tr>\n",
       "  </tbody>\n",
       "</table>\n",
       "</div>"
      ],
      "text/plain": [
       "         key     name              tags                title\n",
       "id                                                          \n",
       "266   Aatrox   Aatrox   [Fighter, Tank]     the Darkin Blade\n",
       "103     Ahri     Ahri  [Mage, Assassin]  the Nine-Tailed Fox\n",
       "84     Akali    Akali        [Assassin]   the Fist of Shadow\n",
       "12   Alistar  Alistar   [Tank, Support]         the Minotaur\n",
       "32     Amumu    Amumu      [Tank, Mage]        the Sad Mummy"
      ]
     },
     "execution_count": 13,
     "metadata": {},
     "output_type": "execute_result"
    }
   ],
   "source": [
    "jDict = pd.read_json('champion_info.json')\n",
    "champInfo = pd.read_json((jDict['data']).to_json(), orient='index')\n",
    "champInfo.set_index(['id'], inplace=True)\n",
    "champInfo.head()"
   ]
  },
  {
   "cell_type": "code",
   "execution_count": 14,
   "metadata": {},
   "outputs": [],
   "source": [
    "def idToName(ID, dic):\n",
    "    champ = dic['name'][ID]\n",
    "    return champ"
   ]
  },
  {
   "cell_type": "code",
   "execution_count": 15,
   "metadata": {},
   "outputs": [
    {
     "data": {
      "text/plain": [
       "'Kayle'"
      ]
     },
     "execution_count": 15,
     "metadata": {},
     "output_type": "execute_result"
    }
   ],
   "source": [
    "idToName(10, champInfo)"
   ]
  },
  {
   "cell_type": "code",
   "execution_count": 16,
   "metadata": {},
   "outputs": [],
   "source": [
    "champCols = ['t1_champ1id','t1_champ2id','t1_champ3id','t1_champ4id','t1_champ5id',\n",
    "             't2_champ1id','t2_champ2id','t2_champ3id','t2_champ4id','t2_champ5id']"
   ]
  },
  {
   "cell_type": "code",
   "execution_count": 17,
   "metadata": {},
   "outputs": [],
   "source": [
    "banCols = ['t1_ban1','t1_ban2','t1_ban3','t1_ban4','t1_ban5',\n",
    "             't2_ban1','t2_ban2','t2_ban3','t2_ban4','t2_ban5',]"
   ]
  },
  {
   "cell_type": "code",
   "execution_count": 18,
   "metadata": {},
   "outputs": [],
   "source": [
    "for c in champCols:\n",
    "    data[c] = data[c].apply(lambda x: idToName(x, champInfo))"
   ]
  },
  {
   "cell_type": "code",
   "execution_count": 19,
   "metadata": {},
   "outputs": [],
   "source": [
    "for c in banCols:\n",
    "    data[c] = data[c].apply(lambda x: idToName(x, champInfo))"
   ]
  },
  {
   "cell_type": "code",
   "execution_count": 20,
   "metadata": {},
   "outputs": [
    {
     "data": {
      "text/html": [
       "<div>\n",
       "<style>\n",
       "    .dataframe thead tr:only-child th {\n",
       "        text-align: right;\n",
       "    }\n",
       "\n",
       "    .dataframe thead th {\n",
       "        text-align: left;\n",
       "    }\n",
       "\n",
       "    .dataframe tbody tr th {\n",
       "        vertical-align: top;\n",
       "    }\n",
       "</style>\n",
       "<table border=\"1\" class=\"dataframe\">\n",
       "  <thead>\n",
       "    <tr style=\"text-align: right;\">\n",
       "      <th></th>\n",
       "      <th>t1_champ1id</th>\n",
       "      <th>t1_champ2id</th>\n",
       "      <th>t1_champ3id</th>\n",
       "      <th>t1_champ4id</th>\n",
       "      <th>t1_champ5id</th>\n",
       "      <th>t2_champ1id</th>\n",
       "      <th>t2_champ2id</th>\n",
       "      <th>t2_champ3id</th>\n",
       "      <th>t2_champ4id</th>\n",
       "      <th>t2_champ5id</th>\n",
       "    </tr>\n",
       "  </thead>\n",
       "  <tbody>\n",
       "    <tr>\n",
       "      <th>0</th>\n",
       "      <td>Vladimir</td>\n",
       "      <td>Bard</td>\n",
       "      <td>Kog'Maw</td>\n",
       "      <td>Master Yi</td>\n",
       "      <td>Viktor</td>\n",
       "      <td>Graves</td>\n",
       "      <td>Xayah</td>\n",
       "      <td>Darius</td>\n",
       "      <td>Zed</td>\n",
       "      <td>Thresh</td>\n",
       "    </tr>\n",
       "    <tr>\n",
       "      <th>1</th>\n",
       "      <td>Draven</td>\n",
       "      <td>Irelia</td>\n",
       "      <td>Nidalee</td>\n",
       "      <td>Kayle</td>\n",
       "      <td>Shaco</td>\n",
       "      <td>Malphite</td>\n",
       "      <td>Morgana</td>\n",
       "      <td>Hecarim</td>\n",
       "      <td>Yasuo</td>\n",
       "      <td>Riven</td>\n",
       "    </tr>\n",
       "    <tr>\n",
       "      <th>2</th>\n",
       "      <td>Tristana</td>\n",
       "      <td>Kayn</td>\n",
       "      <td>Nami</td>\n",
       "      <td>Rumble</td>\n",
       "      <td>Kassadin</td>\n",
       "      <td>Cassiopeia</td>\n",
       "      <td>Thresh</td>\n",
       "      <td>Jayce</td>\n",
       "      <td>Jax</td>\n",
       "      <td>Ashe</td>\n",
       "    </tr>\n",
       "    <tr>\n",
       "      <th>3</th>\n",
       "      <td>Maokai</td>\n",
       "      <td>Brand</td>\n",
       "      <td>Twitch</td>\n",
       "      <td>Orianna</td>\n",
       "      <td>Dr. Mundo</td>\n",
       "      <td>Malzahar</td>\n",
       "      <td>Warwick</td>\n",
       "      <td>Thresh</td>\n",
       "      <td>Riven</td>\n",
       "      <td>Ashe</td>\n",
       "    </tr>\n",
       "    <tr>\n",
       "      <th>4</th>\n",
       "      <td>Warwick</td>\n",
       "      <td>Twitch</td>\n",
       "      <td>Janna</td>\n",
       "      <td>Draven</td>\n",
       "      <td>Syndra</td>\n",
       "      <td>Sona</td>\n",
       "      <td>Jarvan IV</td>\n",
       "      <td>Kayn</td>\n",
       "      <td>Kassadin</td>\n",
       "      <td>Caitlyn</td>\n",
       "    </tr>\n",
       "  </tbody>\n",
       "</table>\n",
       "</div>"
      ],
      "text/plain": [
       "  t1_champ1id t1_champ2id t1_champ3id t1_champ4id t1_champ5id t2_champ1id  \\\n",
       "0    Vladimir        Bard     Kog'Maw   Master Yi      Viktor      Graves   \n",
       "1      Draven      Irelia     Nidalee       Kayle       Shaco    Malphite   \n",
       "2    Tristana        Kayn        Nami      Rumble    Kassadin  Cassiopeia   \n",
       "3      Maokai       Brand      Twitch     Orianna   Dr. Mundo    Malzahar   \n",
       "4     Warwick      Twitch       Janna      Draven      Syndra        Sona   \n",
       "\n",
       "  t2_champ2id t2_champ3id t2_champ4id t2_champ5id  \n",
       "0       Xayah      Darius         Zed      Thresh  \n",
       "1     Morgana     Hecarim       Yasuo       Riven  \n",
       "2      Thresh       Jayce         Jax        Ashe  \n",
       "3     Warwick      Thresh       Riven        Ashe  \n",
       "4   Jarvan IV        Kayn    Kassadin     Caitlyn  "
      ]
     },
     "execution_count": 20,
     "metadata": {},
     "output_type": "execute_result"
    }
   ],
   "source": [
    "data[champCols].head()"
   ]
  },
  {
   "cell_type": "code",
   "execution_count": 21,
   "metadata": {},
   "outputs": [
    {
     "data": {
      "text/html": [
       "<div>\n",
       "<style>\n",
       "    .dataframe thead tr:only-child th {\n",
       "        text-align: right;\n",
       "    }\n",
       "\n",
       "    .dataframe thead th {\n",
       "        text-align: left;\n",
       "    }\n",
       "\n",
       "    .dataframe tbody tr th {\n",
       "        vertical-align: top;\n",
       "    }\n",
       "</style>\n",
       "<table border=\"1\" class=\"dataframe\">\n",
       "  <thead>\n",
       "    <tr style=\"text-align: right;\">\n",
       "      <th></th>\n",
       "      <th>t1_ban1</th>\n",
       "      <th>t1_ban2</th>\n",
       "      <th>t1_ban3</th>\n",
       "      <th>t1_ban4</th>\n",
       "      <th>t1_ban5</th>\n",
       "      <th>t2_ban1</th>\n",
       "      <th>t2_ban2</th>\n",
       "      <th>t2_ban3</th>\n",
       "      <th>t2_ban4</th>\n",
       "      <th>t2_ban5</th>\n",
       "    </tr>\n",
       "  </thead>\n",
       "  <tbody>\n",
       "    <tr>\n",
       "      <th>0</th>\n",
       "      <td>Riven</td>\n",
       "      <td>Janna</td>\n",
       "      <td>Cassiopeia</td>\n",
       "      <td>Draven</td>\n",
       "      <td>Kayn</td>\n",
       "      <td>Fiora</td>\n",
       "      <td>Vayne</td>\n",
       "      <td>Karma</td>\n",
       "      <td>Soraka</td>\n",
       "      <td>Caitlyn</td>\n",
       "    </tr>\n",
       "    <tr>\n",
       "      <th>1</th>\n",
       "      <td>Caitlyn</td>\n",
       "      <td>Darius</td>\n",
       "      <td>Teemo</td>\n",
       "      <td>Xayah</td>\n",
       "      <td>Warwick</td>\n",
       "      <td>Master Yi</td>\n",
       "      <td>Vayne</td>\n",
       "      <td>Zed</td>\n",
       "      <td>Caitlyn</td>\n",
       "      <td>Illaoi</td>\n",
       "    </tr>\n",
       "    <tr>\n",
       "      <th>2</th>\n",
       "      <td>Lulu</td>\n",
       "      <td>Janna</td>\n",
       "      <td>Twitch</td>\n",
       "      <td>Soraka</td>\n",
       "      <td>Blitzcrank</td>\n",
       "      <td>Yasuo</td>\n",
       "      <td>Zed</td>\n",
       "      <td>Kha'Zix</td>\n",
       "      <td>Maokai</td>\n",
       "      <td>Evelynn</td>\n",
       "    </tr>\n",
       "    <tr>\n",
       "      <th>3</th>\n",
       "      <td>Zed</td>\n",
       "      <td>Vayne</td>\n",
       "      <td>Ornn</td>\n",
       "      <td>Fiora</td>\n",
       "      <td>Cho'Gath</td>\n",
       "      <td>Camille</td>\n",
       "      <td>Tristana</td>\n",
       "      <td>Kayn</td>\n",
       "      <td>Janna</td>\n",
       "      <td>Caitlyn</td>\n",
       "    </tr>\n",
       "    <tr>\n",
       "      <th>4</th>\n",
       "      <td>Malzahar</td>\n",
       "      <td>Lee Sin</td>\n",
       "      <td>Thresh</td>\n",
       "      <td>Morgana</td>\n",
       "      <td>Cho'Gath</td>\n",
       "      <td>Garen</td>\n",
       "      <td>Master Yi</td>\n",
       "      <td>Braum</td>\n",
       "      <td>Darius</td>\n",
       "      <td>Tristana</td>\n",
       "    </tr>\n",
       "  </tbody>\n",
       "</table>\n",
       "</div>"
      ],
      "text/plain": [
       "    t1_ban1  t1_ban2     t1_ban3  t1_ban4     t1_ban5    t2_ban1    t2_ban2  \\\n",
       "0     Riven    Janna  Cassiopeia   Draven        Kayn      Fiora      Vayne   \n",
       "1   Caitlyn   Darius       Teemo    Xayah     Warwick  Master Yi      Vayne   \n",
       "2      Lulu    Janna      Twitch   Soraka  Blitzcrank      Yasuo        Zed   \n",
       "3       Zed    Vayne        Ornn    Fiora    Cho'Gath    Camille   Tristana   \n",
       "4  Malzahar  Lee Sin      Thresh  Morgana    Cho'Gath      Garen  Master Yi   \n",
       "\n",
       "   t2_ban3  t2_ban4   t2_ban5  \n",
       "0    Karma   Soraka   Caitlyn  \n",
       "1      Zed  Caitlyn    Illaoi  \n",
       "2  Kha'Zix   Maokai   Evelynn  \n",
       "3     Kayn    Janna   Caitlyn  \n",
       "4    Braum   Darius  Tristana  "
      ]
     },
     "execution_count": 21,
     "metadata": {},
     "output_type": "execute_result"
    }
   ],
   "source": [
    "data[banCols].head()"
   ]
  },
  {
   "cell_type": "code",
   "execution_count": 22,
   "metadata": {},
   "outputs": [
    {
     "data": {
      "text/html": [
       "<div>\n",
       "<style>\n",
       "    .dataframe thead tr:only-child th {\n",
       "        text-align: right;\n",
       "    }\n",
       "\n",
       "    .dataframe thead th {\n",
       "        text-align: left;\n",
       "    }\n",
       "\n",
       "    .dataframe tbody tr th {\n",
       "        vertical-align: top;\n",
       "    }\n",
       "</style>\n",
       "<table border=\"1\" class=\"dataframe\">\n",
       "  <thead>\n",
       "    <tr style=\"text-align: right;\">\n",
       "      <th></th>\n",
       "      <th>t1_champ1id</th>\n",
       "      <th>t1_champ2id</th>\n",
       "      <th>t1_champ3id</th>\n",
       "      <th>t1_champ4id</th>\n",
       "      <th>t1_champ5id</th>\n",
       "      <th>t2_champ1id</th>\n",
       "      <th>t2_champ2id</th>\n",
       "      <th>t2_champ3id</th>\n",
       "      <th>t2_champ4id</th>\n",
       "      <th>t2_champ5id</th>\n",
       "    </tr>\n",
       "  </thead>\n",
       "  <tbody>\n",
       "    <tr>\n",
       "      <th>count</th>\n",
       "      <td>51536</td>\n",
       "      <td>51536</td>\n",
       "      <td>51536</td>\n",
       "      <td>51536</td>\n",
       "      <td>51536</td>\n",
       "      <td>51536</td>\n",
       "      <td>51536</td>\n",
       "      <td>51536</td>\n",
       "      <td>51536</td>\n",
       "      <td>51536</td>\n",
       "    </tr>\n",
       "    <tr>\n",
       "      <th>unique</th>\n",
       "      <td>138</td>\n",
       "      <td>138</td>\n",
       "      <td>138</td>\n",
       "      <td>138</td>\n",
       "      <td>138</td>\n",
       "      <td>138</td>\n",
       "      <td>138</td>\n",
       "      <td>138</td>\n",
       "      <td>138</td>\n",
       "      <td>138</td>\n",
       "    </tr>\n",
       "    <tr>\n",
       "      <th>top</th>\n",
       "      <td>Tristana</td>\n",
       "      <td>Thresh</td>\n",
       "      <td>Thresh</td>\n",
       "      <td>Tristana</td>\n",
       "      <td>Thresh</td>\n",
       "      <td>Tristana</td>\n",
       "      <td>Thresh</td>\n",
       "      <td>Thresh</td>\n",
       "      <td>Tristana</td>\n",
       "      <td>Thresh</td>\n",
       "    </tr>\n",
       "    <tr>\n",
       "      <th>freq</th>\n",
       "      <td>1299</td>\n",
       "      <td>1345</td>\n",
       "      <td>1324</td>\n",
       "      <td>1336</td>\n",
       "      <td>1289</td>\n",
       "      <td>1262</td>\n",
       "      <td>1340</td>\n",
       "      <td>1342</td>\n",
       "      <td>1350</td>\n",
       "      <td>1303</td>\n",
       "    </tr>\n",
       "  </tbody>\n",
       "</table>\n",
       "</div>"
      ],
      "text/plain": [
       "       t1_champ1id t1_champ2id t1_champ3id t1_champ4id t1_champ5id  \\\n",
       "count        51536       51536       51536       51536       51536   \n",
       "unique         138         138         138         138         138   \n",
       "top       Tristana      Thresh      Thresh    Tristana      Thresh   \n",
       "freq          1299        1345        1324        1336        1289   \n",
       "\n",
       "       t2_champ1id t2_champ2id t2_champ3id t2_champ4id t2_champ5id  \n",
       "count        51536       51536       51536       51536       51536  \n",
       "unique         138         138         138         138         138  \n",
       "top       Tristana      Thresh      Thresh    Tristana      Thresh  \n",
       "freq          1262        1340        1342        1350        1303  "
      ]
     },
     "execution_count": 22,
     "metadata": {},
     "output_type": "execute_result"
    }
   ],
   "source": [
    "data[champCols].describe()"
   ]
  },
  {
   "cell_type": "code",
   "execution_count": 23,
   "metadata": {},
   "outputs": [],
   "source": [
    "champInfo.set_index(['name'],inplace=True)"
   ]
  },
  {
   "cell_type": "code",
   "execution_count": 24,
   "metadata": {},
   "outputs": [
    {
     "data": {
      "text/plain": [
       "'Fighter'"
      ]
     },
     "execution_count": 24,
     "metadata": {},
     "output_type": "execute_result"
    }
   ],
   "source": [
    "def getTag(name, data):\n",
    "    tags = data['tags'][name][0]\n",
    "    return tags\n",
    "\n",
    "getTag(\"Rek'Sai\", champInfo)"
   ]
  },
  {
   "cell_type": "code",
   "execution_count": 25,
   "metadata": {},
   "outputs": [
    {
     "data": {
      "text/html": [
       "<div>\n",
       "<style>\n",
       "    .dataframe thead tr:only-child th {\n",
       "        text-align: right;\n",
       "    }\n",
       "\n",
       "    .dataframe thead th {\n",
       "        text-align: left;\n",
       "    }\n",
       "\n",
       "    .dataframe tbody tr th {\n",
       "        vertical-align: top;\n",
       "    }\n",
       "</style>\n",
       "<table border=\"1\" class=\"dataframe\">\n",
       "  <thead>\n",
       "    <tr style=\"text-align: right;\">\n",
       "      <th></th>\n",
       "      <th>gameId</th>\n",
       "      <th>gameLength (seconds)</th>\n",
       "      <th>gameLength (minutes)</th>\n",
       "      <th>seasonId</th>\n",
       "      <th>winner</th>\n",
       "      <th>firstBlood</th>\n",
       "      <th>firstTower</th>\n",
       "      <th>firstInhibitor</th>\n",
       "      <th>firstBaron</th>\n",
       "      <th>firstDragon</th>\n",
       "      <th>...</th>\n",
       "      <th>t1_champ1id_tags</th>\n",
       "      <th>t1_champ2id_tags</th>\n",
       "      <th>t1_champ3id_tags</th>\n",
       "      <th>t1_champ4id_tags</th>\n",
       "      <th>t1_champ5id_tags</th>\n",
       "      <th>t2_champ1id_tags</th>\n",
       "      <th>t2_champ2id_tags</th>\n",
       "      <th>t2_champ3id_tags</th>\n",
       "      <th>t2_champ4id_tags</th>\n",
       "      <th>t2_champ5id_tags</th>\n",
       "    </tr>\n",
       "  </thead>\n",
       "  <tbody>\n",
       "    <tr>\n",
       "      <th>0</th>\n",
       "      <td>3326086514</td>\n",
       "      <td>1949</td>\n",
       "      <td>32</td>\n",
       "      <td>9</td>\n",
       "      <td>0</td>\n",
       "      <td>0</td>\n",
       "      <td>1</td>\n",
       "      <td>1</td>\n",
       "      <td>1</td>\n",
       "      <td>1</td>\n",
       "      <td>...</td>\n",
       "      <td>Mage</td>\n",
       "      <td>Support</td>\n",
       "      <td>Marksman</td>\n",
       "      <td>Assassin</td>\n",
       "      <td>Mage</td>\n",
       "      <td>Marksman</td>\n",
       "      <td>Marksman</td>\n",
       "      <td>Fighter</td>\n",
       "      <td>Assassin</td>\n",
       "      <td>Support</td>\n",
       "    </tr>\n",
       "    <tr>\n",
       "      <th>1</th>\n",
       "      <td>3229566029</td>\n",
       "      <td>1851</td>\n",
       "      <td>30</td>\n",
       "      <td>9</td>\n",
       "      <td>0</td>\n",
       "      <td>1</td>\n",
       "      <td>1</td>\n",
       "      <td>1</td>\n",
       "      <td>0</td>\n",
       "      <td>1</td>\n",
       "      <td>...</td>\n",
       "      <td>Marksman</td>\n",
       "      <td>Fighter</td>\n",
       "      <td>Assassin</td>\n",
       "      <td>Fighter</td>\n",
       "      <td>Assassin</td>\n",
       "      <td>Tank</td>\n",
       "      <td>Mage</td>\n",
       "      <td>Fighter</td>\n",
       "      <td>Fighter</td>\n",
       "      <td>Fighter</td>\n",
       "    </tr>\n",
       "    <tr>\n",
       "      <th>2</th>\n",
       "      <td>3327363504</td>\n",
       "      <td>1493</td>\n",
       "      <td>24</td>\n",
       "      <td>9</td>\n",
       "      <td>0</td>\n",
       "      <td>0</td>\n",
       "      <td>1</td>\n",
       "      <td>1</td>\n",
       "      <td>1</td>\n",
       "      <td>0</td>\n",
       "      <td>...</td>\n",
       "      <td>Marksman</td>\n",
       "      <td>Fighter</td>\n",
       "      <td>Support</td>\n",
       "      <td>Fighter</td>\n",
       "      <td>Assassin</td>\n",
       "      <td>Mage</td>\n",
       "      <td>Support</td>\n",
       "      <td>Fighter</td>\n",
       "      <td>Fighter</td>\n",
       "      <td>Marksman</td>\n",
       "    </tr>\n",
       "    <tr>\n",
       "      <th>3</th>\n",
       "      <td>3326856598</td>\n",
       "      <td>1758</td>\n",
       "      <td>29</td>\n",
       "      <td>9</td>\n",
       "      <td>0</td>\n",
       "      <td>1</td>\n",
       "      <td>1</td>\n",
       "      <td>1</td>\n",
       "      <td>1</td>\n",
       "      <td>1</td>\n",
       "      <td>...</td>\n",
       "      <td>Tank</td>\n",
       "      <td>Mage</td>\n",
       "      <td>Marksman</td>\n",
       "      <td>Mage</td>\n",
       "      <td>Fighter</td>\n",
       "      <td>Mage</td>\n",
       "      <td>Fighter</td>\n",
       "      <td>Support</td>\n",
       "      <td>Fighter</td>\n",
       "      <td>Marksman</td>\n",
       "    </tr>\n",
       "    <tr>\n",
       "      <th>4</th>\n",
       "      <td>3330080762</td>\n",
       "      <td>2094</td>\n",
       "      <td>34</td>\n",
       "      <td>9</td>\n",
       "      <td>0</td>\n",
       "      <td>0</td>\n",
       "      <td>1</td>\n",
       "      <td>1</td>\n",
       "      <td>1</td>\n",
       "      <td>1</td>\n",
       "      <td>...</td>\n",
       "      <td>Fighter</td>\n",
       "      <td>Marksman</td>\n",
       "      <td>Support</td>\n",
       "      <td>Marksman</td>\n",
       "      <td>Mage</td>\n",
       "      <td>Support</td>\n",
       "      <td>Tank</td>\n",
       "      <td>Fighter</td>\n",
       "      <td>Assassin</td>\n",
       "      <td>Marksman</td>\n",
       "    </tr>\n",
       "  </tbody>\n",
       "</table>\n",
       "<p>5 rows × 71 columns</p>\n",
       "</div>"
      ],
      "text/plain": [
       "       gameId  gameLength (seconds)  gameLength (minutes)  seasonId  winner  \\\n",
       "0  3326086514                  1949                    32         9       0   \n",
       "1  3229566029                  1851                    30         9       0   \n",
       "2  3327363504                  1493                    24         9       0   \n",
       "3  3326856598                  1758                    29         9       0   \n",
       "4  3330080762                  2094                    34         9       0   \n",
       "\n",
       "   firstBlood  firstTower  firstInhibitor  firstBaron  firstDragon  \\\n",
       "0           0           1               1           1            1   \n",
       "1           1           1               1           0            1   \n",
       "2           0           1               1           1            0   \n",
       "3           1           1               1           1            1   \n",
       "4           0           1               1           1            1   \n",
       "\n",
       "         ...         t1_champ1id_tags t1_champ2id_tags  t1_champ3id_tags  \\\n",
       "0        ...                     Mage          Support          Marksman   \n",
       "1        ...                 Marksman          Fighter          Assassin   \n",
       "2        ...                 Marksman          Fighter           Support   \n",
       "3        ...                     Tank             Mage          Marksman   \n",
       "4        ...                  Fighter         Marksman           Support   \n",
       "\n",
       "   t1_champ4id_tags t1_champ5id_tags  t2_champ1id_tags  t2_champ2id_tags  \\\n",
       "0          Assassin             Mage          Marksman          Marksman   \n",
       "1           Fighter         Assassin              Tank              Mage   \n",
       "2           Fighter         Assassin              Mage           Support   \n",
       "3              Mage          Fighter              Mage           Fighter   \n",
       "4          Marksman             Mage           Support              Tank   \n",
       "\n",
       "  t2_champ3id_tags  t2_champ4id_tags  t2_champ5id_tags  \n",
       "0          Fighter          Assassin           Support  \n",
       "1          Fighter           Fighter           Fighter  \n",
       "2          Fighter           Fighter          Marksman  \n",
       "3          Support           Fighter          Marksman  \n",
       "4          Fighter          Assassin          Marksman  \n",
       "\n",
       "[5 rows x 71 columns]"
      ]
     },
     "execution_count": 25,
     "metadata": {},
     "output_type": "execute_result"
    }
   ],
   "source": [
    "for col in champCols:\n",
    "    data[col + '_tags'] = data[col].apply(lambda x: getTag(x, champInfo))\n",
    "data.head()"
   ]
  },
  {
   "cell_type": "code",
   "execution_count": 26,
   "metadata": {},
   "outputs": [],
   "source": [
    "sortedPick = sorted(data['t1_champ1id'])\n",
    "sortedBan = sorted(data['t1_ban1'])\n",
    "tagsList = data['t1_champ1id_tags']"
   ]
  },
  {
   "cell_type": "code",
   "execution_count": 27,
   "metadata": {
    "scrolled": true
   },
   "outputs": [
    {
     "data": {
      "text/plain": [
       "<matplotlib.text.Text at 0x7fda9b555e80>"
      ]
     },
     "execution_count": 27,
     "metadata": {},
     "output_type": "execute_result"
    },
    {
     "data": {
      "image/png": "[encoded data removed]",
      "text/plain": [
       "<matplotlib.figure.Figure at 0x7fda9b571198>"
      ]
     },
     "metadata": {},
     "output_type": "display_data"
    }
   ],
   "source": [
    "fig, (ax1, ax2) = plt.subplots(ncols=2, sharey=False, figsize=(15,30))\n",
    "plt.xticks(rotation=90)\n",
    "sns.countplot(y=sortedPick, data=data, ax=ax1)\n",
    "sns.countplot(y=sortedBan, data=data, ax=ax2)\n",
    "ax1.set_title('Champion Picks')\n",
    "ax2.set_title('Champion Bans')"
   ]
  },
  {
   "cell_type": "code",
   "execution_count": 28,
   "metadata": {},
   "outputs": [
    {
     "data": {
      "text/plain": [
       "<matplotlib.axes._subplots.AxesSubplot at 0x7fda9b4d3a90>"
      ]
     },
     "execution_count": 28,
     "metadata": {},
     "output_type": "execute_result"
    },
    {
     "data": {
      "image/png": "[encoded data removed]",
      "text/plain": [
       "<matplotlib.figure.Figure at 0x7fda9ac47da0>"
      ]
     },
     "metadata": {},
     "output_type": "display_data"
    }
   ],
   "source": [
    "sns.countplot(y=tagsList, data=data)"
   ]
  },
  {
   "cell_type": "markdown",
   "metadata": {},
   "source": [
    "to do:\n",
    "\n",
    "* Order champion picks graph\n",
    "* Find a way to incorporate champion types (create new dataFrame?)\n",
    "* ML models on game statistics: predict outcome\n",
    "* analyze champion picks vs. bans--- predict outcome\n",
    "* analyze team composition and predict outcome"
   ]
  },
  {
   "cell_type": "code",
   "execution_count": 29,
   "metadata": {},
   "outputs": [],
   "source": [
    "def numToColor(data):\n",
    "    if data == 0:\n",
    "        color = 'red'\n",
    "    else:\n",
    "        color = 'blue'\n",
    "    return color\n",
    "        "
   ]
  },
  {
   "cell_type": "code",
   "execution_count": 30,
   "metadata": {},
   "outputs": [
    {
     "data": {
      "text/html": [
       "<div>\n",
       "<style>\n",
       "    .dataframe thead tr:only-child th {\n",
       "        text-align: right;\n",
       "    }\n",
       "\n",
       "    .dataframe thead th {\n",
       "        text-align: left;\n",
       "    }\n",
       "\n",
       "    .dataframe tbody tr th {\n",
       "        vertical-align: top;\n",
       "    }\n",
       "</style>\n",
       "<table border=\"1\" class=\"dataframe\">\n",
       "  <thead>\n",
       "    <tr style=\"text-align: right;\">\n",
       "      <th></th>\n",
       "      <th>gameId</th>\n",
       "      <th>gameLength (seconds)</th>\n",
       "      <th>gameLength (minutes)</th>\n",
       "      <th>seasonId</th>\n",
       "      <th>winner</th>\n",
       "      <th>firstBlood</th>\n",
       "      <th>firstTower</th>\n",
       "      <th>firstInhibitor</th>\n",
       "      <th>firstBaron</th>\n",
       "      <th>firstDragon</th>\n",
       "      <th>...</th>\n",
       "      <th>t1_champ2id_tags</th>\n",
       "      <th>t1_champ3id_tags</th>\n",
       "      <th>t1_champ4id_tags</th>\n",
       "      <th>t1_champ5id_tags</th>\n",
       "      <th>t2_champ1id_tags</th>\n",
       "      <th>t2_champ2id_tags</th>\n",
       "      <th>t2_champ3id_tags</th>\n",
       "      <th>t2_champ4id_tags</th>\n",
       "      <th>t2_champ5id_tags</th>\n",
       "      <th>winner(color)</th>\n",
       "    </tr>\n",
       "  </thead>\n",
       "  <tbody>\n",
       "    <tr>\n",
       "      <th>0</th>\n",
       "      <td>3326086514</td>\n",
       "      <td>1949</td>\n",
       "      <td>32</td>\n",
       "      <td>9</td>\n",
       "      <td>0</td>\n",
       "      <td>0</td>\n",
       "      <td>1</td>\n",
       "      <td>1</td>\n",
       "      <td>1</td>\n",
       "      <td>1</td>\n",
       "      <td>...</td>\n",
       "      <td>Support</td>\n",
       "      <td>Marksman</td>\n",
       "      <td>Assassin</td>\n",
       "      <td>Mage</td>\n",
       "      <td>Marksman</td>\n",
       "      <td>Marksman</td>\n",
       "      <td>Fighter</td>\n",
       "      <td>Assassin</td>\n",
       "      <td>Support</td>\n",
       "      <td>red</td>\n",
       "    </tr>\n",
       "    <tr>\n",
       "      <th>1</th>\n",
       "      <td>3229566029</td>\n",
       "      <td>1851</td>\n",
       "      <td>30</td>\n",
       "      <td>9</td>\n",
       "      <td>0</td>\n",
       "      <td>1</td>\n",
       "      <td>1</td>\n",
       "      <td>1</td>\n",
       "      <td>0</td>\n",
       "      <td>1</td>\n",
       "      <td>...</td>\n",
       "      <td>Fighter</td>\n",
       "      <td>Assassin</td>\n",
       "      <td>Fighter</td>\n",
       "      <td>Assassin</td>\n",
       "      <td>Tank</td>\n",
       "      <td>Mage</td>\n",
       "      <td>Fighter</td>\n",
       "      <td>Fighter</td>\n",
       "      <td>Fighter</td>\n",
       "      <td>red</td>\n",
       "    </tr>\n",
       "    <tr>\n",
       "      <th>2</th>\n",
       "      <td>3327363504</td>\n",
       "      <td>1493</td>\n",
       "      <td>24</td>\n",
       "      <td>9</td>\n",
       "      <td>0</td>\n",
       "      <td>0</td>\n",
       "      <td>1</td>\n",
       "      <td>1</td>\n",
       "      <td>1</td>\n",
       "      <td>0</td>\n",
       "      <td>...</td>\n",
       "      <td>Fighter</td>\n",
       "      <td>Support</td>\n",
       "      <td>Fighter</td>\n",
       "      <td>Assassin</td>\n",
       "      <td>Mage</td>\n",
       "      <td>Support</td>\n",
       "      <td>Fighter</td>\n",
       "      <td>Fighter</td>\n",
       "      <td>Marksman</td>\n",
       "      <td>red</td>\n",
       "    </tr>\n",
       "    <tr>\n",
       "      <th>3</th>\n",
       "      <td>3326856598</td>\n",
       "      <td>1758</td>\n",
       "      <td>29</td>\n",
       "      <td>9</td>\n",
       "      <td>0</td>\n",
       "      <td>1</td>\n",
       "      <td>1</td>\n",
       "      <td>1</td>\n",
       "      <td>1</td>\n",
       "      <td>1</td>\n",
       "      <td>...</td>\n",
       "      <td>Mage</td>\n",
       "      <td>Marksman</td>\n",
       "      <td>Mage</td>\n",
       "      <td>Fighter</td>\n",
       "      <td>Mage</td>\n",
       "      <td>Fighter</td>\n",
       "      <td>Support</td>\n",
       "      <td>Fighter</td>\n",
       "      <td>Marksman</td>\n",
       "      <td>red</td>\n",
       "    </tr>\n",
       "    <tr>\n",
       "      <th>4</th>\n",
       "      <td>3330080762</td>\n",
       "      <td>2094</td>\n",
       "      <td>34</td>\n",
       "      <td>9</td>\n",
       "      <td>0</td>\n",
       "      <td>0</td>\n",
       "      <td>1</td>\n",
       "      <td>1</td>\n",
       "      <td>1</td>\n",
       "      <td>1</td>\n",
       "      <td>...</td>\n",
       "      <td>Marksman</td>\n",
       "      <td>Support</td>\n",
       "      <td>Marksman</td>\n",
       "      <td>Mage</td>\n",
       "      <td>Support</td>\n",
       "      <td>Tank</td>\n",
       "      <td>Fighter</td>\n",
       "      <td>Assassin</td>\n",
       "      <td>Marksman</td>\n",
       "      <td>red</td>\n",
       "    </tr>\n",
       "  </tbody>\n",
       "</table>\n",
       "<p>5 rows × 72 columns</p>\n",
       "</div>"
      ],
      "text/plain": [
       "       gameId  gameLength (seconds)  gameLength (minutes)  seasonId  winner  \\\n",
       "0  3326086514                  1949                    32         9       0   \n",
       "1  3229566029                  1851                    30         9       0   \n",
       "2  3327363504                  1493                    24         9       0   \n",
       "3  3326856598                  1758                    29         9       0   \n",
       "4  3330080762                  2094                    34         9       0   \n",
       "\n",
       "   firstBlood  firstTower  firstInhibitor  firstBaron  firstDragon  \\\n",
       "0           0           1               1           1            1   \n",
       "1           1           1               1           0            1   \n",
       "2           0           1               1           1            0   \n",
       "3           1           1               1           1            1   \n",
       "4           0           1               1           1            1   \n",
       "\n",
       "       ...        t1_champ2id_tags t1_champ3id_tags  t1_champ4id_tags  \\\n",
       "0      ...                 Support         Marksman          Assassin   \n",
       "1      ...                 Fighter         Assassin           Fighter   \n",
       "2      ...                 Fighter          Support           Fighter   \n",
       "3      ...                    Mage         Marksman              Mage   \n",
       "4      ...                Marksman          Support          Marksman   \n",
       "\n",
       "   t1_champ5id_tags t2_champ1id_tags  t2_champ2id_tags  t2_champ3id_tags  \\\n",
       "0              Mage         Marksman          Marksman           Fighter   \n",
       "1          Assassin             Tank              Mage           Fighter   \n",
       "2          Assassin             Mage           Support           Fighter   \n",
       "3           Fighter             Mage           Fighter           Support   \n",
       "4              Mage          Support              Tank           Fighter   \n",
       "\n",
       "  t2_champ4id_tags  t2_champ5id_tags  winner(color)  \n",
       "0         Assassin           Support            red  \n",
       "1          Fighter           Fighter            red  \n",
       "2          Fighter          Marksman            red  \n",
       "3          Fighter          Marksman            red  \n",
       "4         Assassin          Marksman            red  \n",
       "\n",
       "[5 rows x 72 columns]"
      ]
     },
     "execution_count": 30,
     "metadata": {},
     "output_type": "execute_result"
    }
   ],
   "source": [
    "data['winner(color)'] = data['winner'].apply(lambda x: numToColor(x))\n",
    "data.head()"
   ]
  },
  {
   "cell_type": "code",
   "execution_count": 31,
   "metadata": {},
   "outputs": [
    {
     "data": {
      "text/html": [
       "<div>\n",
       "<style>\n",
       "    .dataframe thead tr:only-child th {\n",
       "        text-align: right;\n",
       "    }\n",
       "\n",
       "    .dataframe thead th {\n",
       "        text-align: left;\n",
       "    }\n",
       "\n",
       "    .dataframe tbody tr th {\n",
       "        vertical-align: top;\n",
       "    }\n",
       "</style>\n",
       "<table border=\"1\" class=\"dataframe\">\n",
       "  <thead>\n",
       "    <tr style=\"text-align: right;\">\n",
       "      <th></th>\n",
       "      <th>t1_towerKills</th>\n",
       "      <th>t1_inhibitorKills</th>\n",
       "      <th>t2_towerKills</th>\n",
       "      <th>t2_inhibitorKills</th>\n",
       "      <th>winner</th>\n",
       "    </tr>\n",
       "  </thead>\n",
       "  <tbody>\n",
       "    <tr>\n",
       "      <th>t1_towerKills</th>\n",
       "      <td>1.000000</td>\n",
       "      <td>0.824491</td>\n",
       "      <td>-0.549175</td>\n",
       "      <td>-0.469610</td>\n",
       "      <td>-0.771604</td>\n",
       "    </tr>\n",
       "    <tr>\n",
       "      <th>t1_inhibitorKills</th>\n",
       "      <td>0.824491</td>\n",
       "      <td>1.000000</td>\n",
       "      <td>-0.467923</td>\n",
       "      <td>-0.408949</td>\n",
       "      <td>-0.649495</td>\n",
       "    </tr>\n",
       "    <tr>\n",
       "      <th>t2_towerKills</th>\n",
       "      <td>-0.549175</td>\n",
       "      <td>-0.467923</td>\n",
       "      <td>1.000000</td>\n",
       "      <td>0.825784</td>\n",
       "      <td>0.785783</td>\n",
       "    </tr>\n",
       "    <tr>\n",
       "      <th>t2_inhibitorKills</th>\n",
       "      <td>-0.469610</td>\n",
       "      <td>-0.408949</td>\n",
       "      <td>0.825784</td>\n",
       "      <td>1.000000</td>\n",
       "      <td>0.660324</td>\n",
       "    </tr>\n",
       "    <tr>\n",
       "      <th>winner</th>\n",
       "      <td>-0.771604</td>\n",
       "      <td>-0.649495</td>\n",
       "      <td>0.785783</td>\n",
       "      <td>0.660324</td>\n",
       "      <td>1.000000</td>\n",
       "    </tr>\n",
       "  </tbody>\n",
       "</table>\n",
       "</div>"
      ],
      "text/plain": [
       "                   t1_towerKills  t1_inhibitorKills  t2_towerKills  \\\n",
       "t1_towerKills           1.000000           0.824491      -0.549175   \n",
       "t1_inhibitorKills       0.824491           1.000000      -0.467923   \n",
       "t2_towerKills          -0.549175          -0.467923       1.000000   \n",
       "t2_inhibitorKills      -0.469610          -0.408949       0.825784   \n",
       "winner                 -0.771604          -0.649495       0.785783   \n",
       "\n",
       "                   t2_inhibitorKills    winner  \n",
       "t1_towerKills              -0.469610 -0.771604  \n",
       "t1_inhibitorKills          -0.408949 -0.649495  \n",
       "t2_towerKills               0.825784  0.785783  \n",
       "t2_inhibitorKills           1.000000  0.660324  \n",
       "winner                      0.660324  1.000000  "
      ]
     },
     "execution_count": 31,
     "metadata": {},
     "output_type": "execute_result"
    }
   ],
   "source": [
    "kills = data[['t1_towerKills','t1_inhibitorKills','t2_towerKills','t2_inhibitorKills', 'winner'\n",
    "         ]]\n",
    "kills.corr()"
   ]
  },
  {
   "cell_type": "code",
   "execution_count": 56,
   "metadata": {},
   "outputs": [
    {
     "data": {
      "text/plain": [
       "<matplotlib.axes._subplots.AxesSubplot at 0x7fda9295be80>"
      ]
     },
     "execution_count": 56,
     "metadata": {},
     "output_type": "execute_result"
    },
    {
     "data": {
      "image/png": "[encoded data removed]",
      "text/plain": [
       "<matplotlib.figure.Figure at 0x7fda929b2cc0>"
      ]
     },
     "metadata": {},
     "output_type": "display_data"
    }
   ],
   "source": [
    "sns.heatmap(kills.corr(),annot=True)"
   ]
  },
  {
   "cell_type": "markdown",
   "metadata": {},
   "source": [
    "## Machine Learning Section ##\n",
    "\n",
    "Logistic Regression"
   ]
  },
  {
   "cell_type": "code",
   "execution_count": 33,
   "metadata": {},
   "outputs": [],
   "source": [
    "X = data[['t1_towerKills','t1_inhibitorKills','t2_towerKills','t2_inhibitorKills']]\n",
    "y = data['winner']"
   ]
  },
  {
   "cell_type": "code",
   "execution_count": 34,
   "metadata": {},
   "outputs": [],
   "source": [
    "from sklearn.model_selection import train_test_split"
   ]
  },
  {
   "cell_type": "code",
   "execution_count": 35,
   "metadata": {},
   "outputs": [],
   "source": [
    "X_train, X_test, y_train, y_test = train_test_split(X, y, test_size=0.4, random_state=101)"
   ]
  },
  {
   "cell_type": "markdown",
   "metadata": {},
   "source": [
    "### Create and Train Model"
   ]
  },
  {
   "cell_type": "code",
   "execution_count": 36,
   "metadata": {},
   "outputs": [],
   "source": [
    "from sklearn.linear_model import LogisticRegression"
   ]
  },
  {
   "cell_type": "code",
   "execution_count": 37,
   "metadata": {},
   "outputs": [],
   "source": [
    "logmodel = LogisticRegression()"
   ]
  },
  {
   "cell_type": "code",
   "execution_count": 38,
   "metadata": {},
   "outputs": [
    {
     "data": {
      "text/plain": [
       "LogisticRegression(C=1.0, class_weight=None, dual=False, fit_intercept=True,\n",
       "          intercept_scaling=1, max_iter=100, multi_class='ovr', n_jobs=1,\n",
       "          penalty='l2', random_state=None, solver='liblinear', tol=0.0001,\n",
       "          verbose=0, warm_start=False)"
      ]
     },
     "execution_count": 38,
     "metadata": {},
     "output_type": "execute_result"
    }
   ],
   "source": [
    "logmodel.fit(X_train,y_train)"
   ]
  },
  {
   "cell_type": "code",
   "execution_count": 39,
   "metadata": {},
   "outputs": [],
   "source": [
    "predictions = logmodel.predict(X_test)"
   ]
  },
  {
   "cell_type": "markdown",
   "metadata": {},
   "source": [
    "## Evaluate our model ##"
   ]
  },
  {
   "cell_type": "code",
   "execution_count": 40,
   "metadata": {},
   "outputs": [],
   "source": [
    "from sklearn.metrics import classification_report"
   ]
  },
  {
   "cell_type": "code",
   "execution_count": 41,
   "metadata": {},
   "outputs": [
    {
     "name": "stdout",
     "output_type": "stream",
     "text": [
      "             precision    recall  f1-score   support\n",
      "\n",
      "          0       0.95      0.97      0.96     10538\n",
      "          1       0.96      0.95      0.96     10077\n",
      "\n",
      "avg / total       0.96      0.96      0.96     20615\n",
      "\n"
     ]
    }
   ],
   "source": [
    "print(classification_report(y_test,predictions))"
   ]
  },
  {
   "cell_type": "code",
   "execution_count": 42,
   "metadata": {},
   "outputs": [
    {
     "data": {
      "text/plain": [
       "<matplotlib.axes._subplots.AxesSubplot at 0x7fda929c9710>"
      ]
     },
     "execution_count": 42,
     "metadata": {},
     "output_type": "execute_result"
    },
    {
     "data": {
      "image/png": "[encoded data removed]",
      "text/plain": [
       "<matplotlib.figure.Figure at 0x7fda929b2ef0>"
      ]
     },
     "metadata": {},
     "output_type": "display_data"
    }
   ],
   "source": [
    "sns.heatmap(data[['t1_baronKills', 't1_dragonKills', 't2_baronKills', 't2_dragonKills','winner']].corr())"
   ]
  },
  {
   "cell_type": "code",
   "execution_count": 43,
   "metadata": {},
   "outputs": [],
   "source": [
    "X = data[['t1_baronKills', 't1_dragonKills', 't2_baronKills', 't2_dragonKills']]\n",
    "y = data['winner']"
   ]
  },
  {
   "cell_type": "code",
   "execution_count": 44,
   "metadata": {},
   "outputs": [],
   "source": [
    "X_train, X_test, y_train, y_test = train_test_split(X, y, test_size=0.4, random_state=101)"
   ]
  },
  {
   "cell_type": "code",
   "execution_count": 45,
   "metadata": {},
   "outputs": [],
   "source": [
    "logmodel = LogisticRegression()"
   ]
  },
  {
   "cell_type": "code",
   "execution_count": 46,
   "metadata": {},
   "outputs": [
    {
     "data": {
      "text/plain": [
       "LogisticRegression(C=1.0, class_weight=None, dual=False, fit_intercept=True,\n",
       "          intercept_scaling=1, max_iter=100, multi_class='ovr', n_jobs=1,\n",
       "          penalty='l2', random_state=None, solver='liblinear', tol=0.0001,\n",
       "          verbose=0, warm_start=False)"
      ]
     },
     "execution_count": 46,
     "metadata": {},
     "output_type": "execute_result"
    }
   ],
   "source": [
    "logmodel.fit(X_train,y_train)"
   ]
  },
  {
   "cell_type": "code",
   "execution_count": 47,
   "metadata": {},
   "outputs": [],
   "source": [
    "predictions = logmodel.predict(X_test)"
   ]
  },
  {
   "cell_type": "code",
   "execution_count": 48,
   "metadata": {},
   "outputs": [
    {
     "name": "stdout",
     "output_type": "stream",
     "text": [
      "             precision    recall  f1-score   support\n",
      "\n",
      "          0       0.81      0.88      0.84     10538\n",
      "          1       0.86      0.78      0.82     10077\n",
      "\n",
      "avg / total       0.84      0.83      0.83     20615\n",
      "\n"
     ]
    }
   ],
   "source": [
    "print(classification_report(y_test,predictions))"
   ]
  },
  {
   "cell_type": "markdown",
   "metadata": {},
   "source": [
    "## Try with combined ##"
   ]
  },
  {
   "cell_type": "code",
   "execution_count": 49,
   "metadata": {},
   "outputs": [],
   "source": [
    "X = data[['t1_baronKills', 't1_dragonKills', 't2_baronKills', 't2_dragonKills',\n",
    "         't1_towerKills','t1_inhibitorKills','t2_towerKills','t2_inhibitorKills']]\n",
    "y = data['winner']"
   ]
  },
  {
   "cell_type": "code",
   "execution_count": 50,
   "metadata": {},
   "outputs": [],
   "source": [
    "X_train, X_test, y_train, y_test = train_test_split(X, y, test_size=0.4, random_state=101)"
   ]
  },
  {
   "cell_type": "code",
   "execution_count": 51,
   "metadata": {},
   "outputs": [
    {
     "data": {
      "text/plain": [
       "<matplotlib.axes._subplots.AxesSubplot at 0x7fda928d1d68>"
      ]
     },
     "execution_count": 51,
     "metadata": {},
     "output_type": "execute_result"
    },
    {
     "data": {
      "image/png": "[encoded data removed]",
      "text/plain": [
       "<matplotlib.figure.Figure at 0x7fda929b2e10>"
      ]
     },
     "metadata": {},
     "output_type": "display_data"
    }
   ],
   "source": [
    "fig = plt.figure(figsize=(10,10))\n",
    "sns.heatmap(data[['t1_baronKills', 't1_dragonKills', 't2_baronKills', 't2_dragonKills',\n",
    "         't1_towerKills','t1_inhibitorKills','t2_towerKills','t2_inhibitorKills','winner']].corr(),annot=True,square=True)"
   ]
  },
  {
   "cell_type": "code",
   "execution_count": 52,
   "metadata": {},
   "outputs": [],
   "source": [
    "logmodel = LogisticRegression()"
   ]
  },
  {
   "cell_type": "code",
   "execution_count": 53,
   "metadata": {},
   "outputs": [
    {
     "data": {
      "text/plain": [
       "LogisticRegression(C=1.0, class_weight=None, dual=False, fit_intercept=True,\n",
       "          intercept_scaling=1, max_iter=100, multi_class='ovr', n_jobs=1,\n",
       "          penalty='l2', random_state=None, solver='liblinear', tol=0.0001,\n",
       "          verbose=0, warm_start=False)"
      ]
     },
     "execution_count": 53,
     "metadata": {},
     "output_type": "execute_result"
    }
   ],
   "source": [
    "logmodel.fit(X_train, y_train)"
   ]
  },
  {
   "cell_type": "code",
   "execution_count": 54,
   "metadata": {},
   "outputs": [],
   "source": [
    "predictions = logmodel.predict(X_test)"
   ]
  },
  {
   "cell_type": "code",
   "execution_count": 55,
   "metadata": {},
   "outputs": [
    {
     "name": "stdout",
     "output_type": "stream",
     "text": [
      "             precision    recall  f1-score   support\n",
      "\n",
      "          0       0.97      0.95      0.96     10538\n",
      "          1       0.94      0.97      0.96     10077\n",
      "\n",
      "avg / total       0.96      0.96      0.96     20615\n",
      "\n"
     ]
    }
   ],
   "source": [
    "print(classification_report(y_test,predictions))"
   ]
  },
  {
   "cell_type": "code",
   "execution_count": null,
   "metadata": {},
   "outputs": [],
   "source": []
  }
 ],
 "metadata": {
  "kernelspec": {
   "display_name": "Python 3",
   "language": "python",
   "name": "python3"
  },
  "language_info": {
   "codemirror_mode": {
    "name": "ipython",
    "version": 3
   },
   "file_extension": ".py",
   "mimetype": "text/x-python",
   "name": "python",
   "nbconvert_exporter": "python",
   "pygments_lexer": "ipython3",
   "version": "3.6.2"
  }
 },
 "nbformat": 4,
 "nbformat_minor": 2
}
