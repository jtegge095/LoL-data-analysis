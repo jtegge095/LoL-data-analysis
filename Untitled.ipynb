{
 "cells": [
  {
   "cell_type": "code",
   "execution_count": 5,
   "metadata": {},
   "outputs": [],
   "source": [
    "import pandas as pd\n",
    "import numpy as np \n",
    "import matplotlib.pyplot as plt \n",
    "import seaborn as sns\n",
    "import json\n",
    "sns.set_style('darkgrid')\n",
    "%matplotlib inline"
   ]
  },
  {
   "cell_type": "code",
   "execution_count": 36,
   "metadata": {},
   "outputs": [],
   "source": [
    "# import original data\n",
    "data = pd.read_csv('games.csv')\n",
    "\n",
    "# rename column, add new column to show minutes\n",
    "data.rename(columns={'gameDuration': 'gameLength (seconds)'}, inplace=True)\n",
    "data['gameLength (minutes)'] = data['gameLength (seconds)'].apply(lambda x: x//60)\n",
    "\n",
    "# import champion info json and grab the data\n",
    "jDict = pd.read_json('champion_info.json')\n",
    "champData = jDict['data']\n",
    "\n",
    "\n",
    "def idToName(ID, dic):\n",
    "    '''\n",
    "    ID: champion ID as listed in original dataframe\n",
    "    dic: champData from json, defined above\n",
    "\n",
    "    used to convert ID's to champion names\n",
    "    '''\n",
    "    champ = dic[ID]\n",
    "    return champ['name']\n",
    "\n",
    "\n",
    "# create an ordered list of champion names for later use\n",
    "champList = []\n",
    "for info in champData:\n",
    "    champList.append(info['name'])\n",
    "champList = sorted(champList)\n",
    "\n",
    "# create list of columns of user picks and another list for bans\n",
    "champCols = ['t1_champ1id','t1_champ2id','t1_champ3id','t1_champ4id','t1_champ5id',\n",
    "             't2_champ1id','t2_champ2id','t2_champ3id','t2_champ4id','t2_champ5id']\n",
    "banCols = ['t1_ban1','t1_ban2','t1_ban3','t1_ban4','t1_ban5',\n",
    "             't2_ban1','t2_ban2','t2_ban3','t2_ban4','t2_ban5',]\n",
    "\n",
    "# apply the idToName function for these columns so we have \n",
    "# champion names rather than ID's\n",
    "for c in champCols:\n",
    "    data[c] = data[c].apply(lambda x: idToName(x, champData))\n",
    "\n",
    "#**Not working yet**\n",
    "#for c in banCols:\n",
    "    #data[c] = data[c].apply(lambda x: idToName(x, champData))"
   ]
  },
  {
   "cell_type": "code",
   "execution_count": 37,
   "metadata": {},
   "outputs": [
    {
     "data": {
      "text/plain": [
       "51536"
      ]
     },
     "execution_count": 37,
     "metadata": {},
     "output_type": "execute_result"
    }
   ],
   "source": [
    "(data['t2_ban2'] == -1).count()"
   ]
  },
  {
   "cell_type": "code",
   "execution_count": 29,
   "metadata": {
    "collapsed": true
   },
   "outputs": [],
   "source": [
    "def dataClean(x):\n",
    "    if x == -1:\n",
    "        x = np.nan\n",
    "    return x"
   ]
  },
  {
   "cell_type": "code",
   "execution_count": 30,
   "metadata": {},
   "outputs": [],
   "source": [
    "test = data['t2_ban2'].apply(lambda x: dataClean(x))"
   ]
  },
  {
   "cell_type": "code",
   "execution_count": 38,
   "metadata": {},
   "outputs": [],
   "source": [
    "banTest = data['t2_ban2'].apply(lambda x: idToName(x, champData))"
   ]
  },
  {
   "cell_type": "code",
   "execution_count": 39,
   "metadata": {},
   "outputs": [
    {
     "data": {
      "text/plain": [
       "0               Vayne\n",
       "1               Vayne\n",
       "2                 Zed\n",
       "3            Tristana\n",
       "4           Master Yi\n",
       "5              Syndra\n",
       "6               Corki\n",
       "7            Kassadin\n",
       "8             Caitlyn\n",
       "9                Kayn\n",
       "10       Heimerdinger\n",
       "11                Zac\n",
       "12            Lee Sin\n",
       "13              Xayah\n",
       "14              Vayne\n",
       "15               Lulu\n",
       "16             Syndra\n",
       "17              Annie\n",
       "18               Kayn\n",
       "19           Malphite\n",
       "20               Nunu\n",
       "21             Darius\n",
       "22            Orianna\n",
       "23            Kog'Maw\n",
       "24          Master Yi\n",
       "25              Teemo\n",
       "26            Sejuani\n",
       "27           Katarina\n",
       "28              Talon\n",
       "29            Kha'Zix\n",
       "             ...     \n",
       "51506          Maokai\n",
       "51507          Darius\n",
       "51508          Darius\n",
       "51509           Xayah\n",
       "51510            Azir\n",
       "51511          Twitch\n",
       "51512            Kayn\n",
       "51513         Caitlyn\n",
       "51514           Rakan\n",
       "51515           Vayne\n",
       "51516         Camille\n",
       "51517        Katarina\n",
       "51518           Leona\n",
       "51519          Darius\n",
       "51520             Zac\n",
       "51521      Blitzcrank\n",
       "51522            Fizz\n",
       "51523           Janna\n",
       "51524      Blitzcrank\n",
       "51525           Talon\n",
       "51526        Malzahar\n",
       "51527         Caitlyn\n",
       "51528          Darius\n",
       "51529          Thresh\n",
       "51530    Miss Fortune\n",
       "51531            None\n",
       "51532        Katarina\n",
       "51533          Darius\n",
       "51534          Irelia\n",
       "51535           Yasuo\n",
       "Name: t2_ban2, Length: 51536, dtype: object"
      ]
     },
     "execution_count": 39,
     "metadata": {},
     "output_type": "execute_result"
    }
   ],
   "source": [
    "banTest"
   ]
  },
  {
   "cell_type": "code",
   "execution_count": null,
   "metadata": {
    "collapsed": true
   },
   "outputs": [],
   "source": []
  }
 ],
 "metadata": {
  "kernelspec": {
   "display_name": "Python 3",
   "language": "python",
   "name": "python3"
  },
  "language_info": {
   "codemirror_mode": {
    "name": "ipython",
    "version": 3
   },
   "file_extension": ".py",
   "mimetype": "text/x-python",
   "name": "python",
   "nbconvert_exporter": "python",
   "pygments_lexer": "ipython3",
   "version": "3.6.1"
  }
 },
 "nbformat": 4,
 "nbformat_minor": 2
}
