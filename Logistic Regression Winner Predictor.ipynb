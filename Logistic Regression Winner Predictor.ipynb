{
 "cells": [
  {
   "cell_type": "markdown",
   "metadata": {},
   "source": [
    "# Logistic Regression Analysis #\n",
    "\n",
    "From the data, we can see that the outcome of a game is binary: the winner is denoted by either a 0 (blue team) or a 1 (red team). Using the data from different aspects of the game, we want to be able to predict who will win the game. \n",
    "\n",
    "Because of the binary nature of the outcome we want to predict, we will use logistic regression to produce an output that will always be in between 0 and 1, and will allow it to correctly predict who will win."
   ]
  },
  {
   "cell_type": "markdown",
   "metadata": {},
   "source": [
    "## Import our setup code ##"
   ]
  },
  {
   "cell_type": "code",
   "execution_count": 1,
   "metadata": {},
   "outputs": [],
   "source": [
    "import pandas as pd\n",
    "import numpy as np \n",
    "import matplotlib.pyplot as plt \n",
    "import seaborn as sns\n",
    "import json\n",
    "sns.set_style('darkgrid')"
   ]
  },
  {
   "cell_type": "code",
   "execution_count": 2,
   "metadata": {},
   "outputs": [],
   "source": [
    "%matplotlib inline"
   ]
  },
  {
   "cell_type": "code",
   "execution_count": 3,
   "metadata": {},
   "outputs": [],
   "source": [
    "# import original data\n",
    "data = pd.read_csv('games.csv')"
   ]
  },
  {
   "cell_type": "code",
   "execution_count": 4,
   "metadata": {},
   "outputs": [
    {
     "data": {
      "text/html": [
       "<div>\n",
       "<style>\n",
       "    .dataframe thead tr:only-child th {\n",
       "        text-align: right;\n",
       "    }\n",
       "\n",
       "    .dataframe thead th {\n",
       "        text-align: left;\n",
       "    }\n",
       "\n",
       "    .dataframe tbody tr th {\n",
       "        vertical-align: top;\n",
       "    }\n",
       "</style>\n",
       "<table border=\"1\" class=\"dataframe\">\n",
       "  <thead>\n",
       "    <tr style=\"text-align: right;\">\n",
       "      <th></th>\n",
       "      <th>gameId</th>\n",
       "      <th>creationTime</th>\n",
       "      <th>gameDuration</th>\n",
       "      <th>seasonId</th>\n",
       "      <th>winner</th>\n",
       "      <th>firstBlood</th>\n",
       "      <th>firstTower</th>\n",
       "      <th>firstInhibitor</th>\n",
       "      <th>firstBaron</th>\n",
       "      <th>firstDragon</th>\n",
       "      <th>...</th>\n",
       "      <th>t2_towerKills</th>\n",
       "      <th>t2_inhibitorKills</th>\n",
       "      <th>t2_baronKills</th>\n",
       "      <th>t2_dragonKills</th>\n",
       "      <th>t2_riftHeraldKills</th>\n",
       "      <th>t2_ban1</th>\n",
       "      <th>t2_ban2</th>\n",
       "      <th>t2_ban3</th>\n",
       "      <th>t2_ban4</th>\n",
       "      <th>t2_ban5</th>\n",
       "    </tr>\n",
       "  </thead>\n",
       "  <tbody>\n",
       "    <tr>\n",
       "      <th>0</th>\n",
       "      <td>3326086514</td>\n",
       "      <td>1504279457970</td>\n",
       "      <td>1949</td>\n",
       "      <td>9</td>\n",
       "      <td>1</td>\n",
       "      <td>2</td>\n",
       "      <td>1</td>\n",
       "      <td>1</td>\n",
       "      <td>1</td>\n",
       "      <td>1</td>\n",
       "      <td>...</td>\n",
       "      <td>5</td>\n",
       "      <td>0</td>\n",
       "      <td>0</td>\n",
       "      <td>1</td>\n",
       "      <td>1</td>\n",
       "      <td>114</td>\n",
       "      <td>67</td>\n",
       "      <td>43</td>\n",
       "      <td>16</td>\n",
       "      <td>51</td>\n",
       "    </tr>\n",
       "    <tr>\n",
       "      <th>1</th>\n",
       "      <td>3229566029</td>\n",
       "      <td>1497848803862</td>\n",
       "      <td>1851</td>\n",
       "      <td>9</td>\n",
       "      <td>1</td>\n",
       "      <td>1</td>\n",
       "      <td>1</td>\n",
       "      <td>1</td>\n",
       "      <td>0</td>\n",
       "      <td>1</td>\n",
       "      <td>...</td>\n",
       "      <td>2</td>\n",
       "      <td>0</td>\n",
       "      <td>0</td>\n",
       "      <td>0</td>\n",
       "      <td>0</td>\n",
       "      <td>11</td>\n",
       "      <td>67</td>\n",
       "      <td>238</td>\n",
       "      <td>51</td>\n",
       "      <td>420</td>\n",
       "    </tr>\n",
       "    <tr>\n",
       "      <th>2</th>\n",
       "      <td>3327363504</td>\n",
       "      <td>1504360103310</td>\n",
       "      <td>1493</td>\n",
       "      <td>9</td>\n",
       "      <td>1</td>\n",
       "      <td>2</td>\n",
       "      <td>1</td>\n",
       "      <td>1</td>\n",
       "      <td>1</td>\n",
       "      <td>2</td>\n",
       "      <td>...</td>\n",
       "      <td>2</td>\n",
       "      <td>0</td>\n",
       "      <td>0</td>\n",
       "      <td>1</td>\n",
       "      <td>0</td>\n",
       "      <td>157</td>\n",
       "      <td>238</td>\n",
       "      <td>121</td>\n",
       "      <td>57</td>\n",
       "      <td>28</td>\n",
       "    </tr>\n",
       "    <tr>\n",
       "      <th>3</th>\n",
       "      <td>3326856598</td>\n",
       "      <td>1504348503996</td>\n",
       "      <td>1758</td>\n",
       "      <td>9</td>\n",
       "      <td>1</td>\n",
       "      <td>1</td>\n",
       "      <td>1</td>\n",
       "      <td>1</td>\n",
       "      <td>1</td>\n",
       "      <td>1</td>\n",
       "      <td>...</td>\n",
       "      <td>0</td>\n",
       "      <td>0</td>\n",
       "      <td>0</td>\n",
       "      <td>0</td>\n",
       "      <td>0</td>\n",
       "      <td>164</td>\n",
       "      <td>18</td>\n",
       "      <td>141</td>\n",
       "      <td>40</td>\n",
       "      <td>51</td>\n",
       "    </tr>\n",
       "    <tr>\n",
       "      <th>4</th>\n",
       "      <td>3330080762</td>\n",
       "      <td>1504554410899</td>\n",
       "      <td>2094</td>\n",
       "      <td>9</td>\n",
       "      <td>1</td>\n",
       "      <td>2</td>\n",
       "      <td>1</td>\n",
       "      <td>1</td>\n",
       "      <td>1</td>\n",
       "      <td>1</td>\n",
       "      <td>...</td>\n",
       "      <td>3</td>\n",
       "      <td>0</td>\n",
       "      <td>0</td>\n",
       "      <td>1</td>\n",
       "      <td>0</td>\n",
       "      <td>86</td>\n",
       "      <td>11</td>\n",
       "      <td>201</td>\n",
       "      <td>122</td>\n",
       "      <td>18</td>\n",
       "    </tr>\n",
       "  </tbody>\n",
       "</table>\n",
       "<p>5 rows × 61 columns</p>\n",
       "</div>"
      ],
      "text/plain": [
       "       gameId   creationTime  gameDuration  seasonId  winner  firstBlood  \\\n",
       "0  3326086514  1504279457970          1949         9       1           2   \n",
       "1  3229566029  1497848803862          1851         9       1           1   \n",
       "2  3327363504  1504360103310          1493         9       1           2   \n",
       "3  3326856598  1504348503996          1758         9       1           1   \n",
       "4  3330080762  1504554410899          2094         9       1           2   \n",
       "\n",
       "   firstTower  firstInhibitor  firstBaron  firstDragon   ...     \\\n",
       "0           1               1           1            1   ...      \n",
       "1           1               1           0            1   ...      \n",
       "2           1               1           1            2   ...      \n",
       "3           1               1           1            1   ...      \n",
       "4           1               1           1            1   ...      \n",
       "\n",
       "   t2_towerKills  t2_inhibitorKills  t2_baronKills  t2_dragonKills  \\\n",
       "0              5                  0              0               1   \n",
       "1              2                  0              0               0   \n",
       "2              2                  0              0               1   \n",
       "3              0                  0              0               0   \n",
       "4              3                  0              0               1   \n",
       "\n",
       "   t2_riftHeraldKills  t2_ban1  t2_ban2  t2_ban3  t2_ban4  t2_ban5  \n",
       "0                   1      114       67       43       16       51  \n",
       "1                   0       11       67      238       51      420  \n",
       "2                   0      157      238      121       57       28  \n",
       "3                   0      164       18      141       40       51  \n",
       "4                   0       86       11      201      122       18  \n",
       "\n",
       "[5 rows x 61 columns]"
      ]
     },
     "execution_count": 4,
     "metadata": {},
     "output_type": "execute_result"
    }
   ],
   "source": [
    "data.head()"
   ]
  },
  {
   "cell_type": "code",
   "execution_count": 5,
   "metadata": {},
   "outputs": [],
   "source": [
    "data = data[(data['firstBlood']>0) & (data['firstTower']>0) & (data['firstInhibitor']>0) & (data['firstBaron']>0) & (data['firstDragon']>0)]"
   ]
  },
  {
   "cell_type": "code",
   "execution_count": 6,
   "metadata": {},
   "outputs": [],
   "source": [
    "data.reset_index(drop=True,inplace=True)"
   ]
  },
  {
   "cell_type": "code",
   "execution_count": 7,
   "metadata": {},
   "outputs": [
    {
     "data": {
      "text/html": [
       "<div>\n",
       "<style>\n",
       "    .dataframe thead tr:only-child th {\n",
       "        text-align: right;\n",
       "    }\n",
       "\n",
       "    .dataframe thead th {\n",
       "        text-align: left;\n",
       "    }\n",
       "\n",
       "    .dataframe tbody tr th {\n",
       "        vertical-align: top;\n",
       "    }\n",
       "</style>\n",
       "<table border=\"1\" class=\"dataframe\">\n",
       "  <thead>\n",
       "    <tr style=\"text-align: right;\">\n",
       "      <th></th>\n",
       "      <th>gameId</th>\n",
       "      <th>creationTime</th>\n",
       "      <th>gameDuration</th>\n",
       "      <th>seasonId</th>\n",
       "      <th>winner</th>\n",
       "      <th>firstBlood</th>\n",
       "      <th>firstTower</th>\n",
       "      <th>firstInhibitor</th>\n",
       "      <th>firstBaron</th>\n",
       "      <th>firstDragon</th>\n",
       "      <th>...</th>\n",
       "      <th>t2_towerKills</th>\n",
       "      <th>t2_inhibitorKills</th>\n",
       "      <th>t2_baronKills</th>\n",
       "      <th>t2_dragonKills</th>\n",
       "      <th>t2_riftHeraldKills</th>\n",
       "      <th>t2_ban1</th>\n",
       "      <th>t2_ban2</th>\n",
       "      <th>t2_ban3</th>\n",
       "      <th>t2_ban4</th>\n",
       "      <th>t2_ban5</th>\n",
       "    </tr>\n",
       "  </thead>\n",
       "  <tbody>\n",
       "    <tr>\n",
       "      <th>0</th>\n",
       "      <td>3326086514</td>\n",
       "      <td>1504279457970</td>\n",
       "      <td>1949</td>\n",
       "      <td>9</td>\n",
       "      <td>1</td>\n",
       "      <td>2</td>\n",
       "      <td>1</td>\n",
       "      <td>1</td>\n",
       "      <td>1</td>\n",
       "      <td>1</td>\n",
       "      <td>...</td>\n",
       "      <td>5</td>\n",
       "      <td>0</td>\n",
       "      <td>0</td>\n",
       "      <td>1</td>\n",
       "      <td>1</td>\n",
       "      <td>114</td>\n",
       "      <td>67</td>\n",
       "      <td>43</td>\n",
       "      <td>16</td>\n",
       "      <td>51</td>\n",
       "    </tr>\n",
       "    <tr>\n",
       "      <th>1</th>\n",
       "      <td>3327363504</td>\n",
       "      <td>1504360103310</td>\n",
       "      <td>1493</td>\n",
       "      <td>9</td>\n",
       "      <td>1</td>\n",
       "      <td>2</td>\n",
       "      <td>1</td>\n",
       "      <td>1</td>\n",
       "      <td>1</td>\n",
       "      <td>2</td>\n",
       "      <td>...</td>\n",
       "      <td>2</td>\n",
       "      <td>0</td>\n",
       "      <td>0</td>\n",
       "      <td>1</td>\n",
       "      <td>0</td>\n",
       "      <td>157</td>\n",
       "      <td>238</td>\n",
       "      <td>121</td>\n",
       "      <td>57</td>\n",
       "      <td>28</td>\n",
       "    </tr>\n",
       "    <tr>\n",
       "      <th>2</th>\n",
       "      <td>3326856598</td>\n",
       "      <td>1504348503996</td>\n",
       "      <td>1758</td>\n",
       "      <td>9</td>\n",
       "      <td>1</td>\n",
       "      <td>1</td>\n",
       "      <td>1</td>\n",
       "      <td>1</td>\n",
       "      <td>1</td>\n",
       "      <td>1</td>\n",
       "      <td>...</td>\n",
       "      <td>0</td>\n",
       "      <td>0</td>\n",
       "      <td>0</td>\n",
       "      <td>0</td>\n",
       "      <td>0</td>\n",
       "      <td>164</td>\n",
       "      <td>18</td>\n",
       "      <td>141</td>\n",
       "      <td>40</td>\n",
       "      <td>51</td>\n",
       "    </tr>\n",
       "    <tr>\n",
       "      <th>3</th>\n",
       "      <td>3330080762</td>\n",
       "      <td>1504554410899</td>\n",
       "      <td>2094</td>\n",
       "      <td>9</td>\n",
       "      <td>1</td>\n",
       "      <td>2</td>\n",
       "      <td>1</td>\n",
       "      <td>1</td>\n",
       "      <td>1</td>\n",
       "      <td>1</td>\n",
       "      <td>...</td>\n",
       "      <td>3</td>\n",
       "      <td>0</td>\n",
       "      <td>0</td>\n",
       "      <td>1</td>\n",
       "      <td>0</td>\n",
       "      <td>86</td>\n",
       "      <td>11</td>\n",
       "      <td>201</td>\n",
       "      <td>122</td>\n",
       "      <td>18</td>\n",
       "    </tr>\n",
       "    <tr>\n",
       "      <th>4</th>\n",
       "      <td>3287435705</td>\n",
       "      <td>1501667992132</td>\n",
       "      <td>2059</td>\n",
       "      <td>9</td>\n",
       "      <td>1</td>\n",
       "      <td>2</td>\n",
       "      <td>2</td>\n",
       "      <td>1</td>\n",
       "      <td>1</td>\n",
       "      <td>2</td>\n",
       "      <td>...</td>\n",
       "      <td>6</td>\n",
       "      <td>0</td>\n",
       "      <td>0</td>\n",
       "      <td>3</td>\n",
       "      <td>0</td>\n",
       "      <td>119</td>\n",
       "      <td>134</td>\n",
       "      <td>154</td>\n",
       "      <td>63</td>\n",
       "      <td>31</td>\n",
       "    </tr>\n",
       "  </tbody>\n",
       "</table>\n",
       "<p>5 rows × 61 columns</p>\n",
       "</div>"
      ],
      "text/plain": [
       "       gameId   creationTime  gameDuration  seasonId  winner  firstBlood  \\\n",
       "0  3326086514  1504279457970          1949         9       1           2   \n",
       "1  3327363504  1504360103310          1493         9       1           2   \n",
       "2  3326856598  1504348503996          1758         9       1           1   \n",
       "3  3330080762  1504554410899          2094         9       1           2   \n",
       "4  3287435705  1501667992132          2059         9       1           2   \n",
       "\n",
       "   firstTower  firstInhibitor  firstBaron  firstDragon   ...     \\\n",
       "0           1               1           1            1   ...      \n",
       "1           1               1           1            2   ...      \n",
       "2           1               1           1            1   ...      \n",
       "3           1               1           1            1   ...      \n",
       "4           2               1           1            2   ...      \n",
       "\n",
       "   t2_towerKills  t2_inhibitorKills  t2_baronKills  t2_dragonKills  \\\n",
       "0              5                  0              0               1   \n",
       "1              2                  0              0               1   \n",
       "2              0                  0              0               0   \n",
       "3              3                  0              0               1   \n",
       "4              6                  0              0               3   \n",
       "\n",
       "   t2_riftHeraldKills  t2_ban1  t2_ban2  t2_ban3  t2_ban4  t2_ban5  \n",
       "0                   1      114       67       43       16       51  \n",
       "1                   0      157      238      121       57       28  \n",
       "2                   0      164       18      141       40       51  \n",
       "3                   0       86       11      201      122       18  \n",
       "4                   0      119      134      154       63       31  \n",
       "\n",
       "[5 rows x 61 columns]"
      ]
     },
     "execution_count": 7,
     "metadata": {},
     "output_type": "execute_result"
    }
   ],
   "source": [
    "data.head()"
   ]
  },
  {
   "cell_type": "markdown",
   "metadata": {},
   "source": [
    "## Explore our data ##\n",
    "A good indicator of how well your team is doing in a match is how many objectives your team has taken. These objectvies are:\n",
    "\n",
    "* Tower kills: Towers are placed in each lane of the map and must be taken in order for your team to advance.\n",
    "* Inhibitor kills: Inhibitors are placed in each team's base, and must be taken in order for your team to take the inner towers and eventually win the game.\n",
    "* Dragon kills: The Dragon is a powerful neutral monster that gives you and your teammates 'buffs' and gold, which help establish a competitive edge over the other team.\n",
    "* Baron kills: The Baron is the most powerful monster on the map that gives your team a very competitve edge over the other team.\n",
    "\n",
    "We will use these as our source of data when predicting the outcome of each match."
   ]
  },
  {
   "cell_type": "markdown",
   "metadata": {},
   "source": [
    "### Let's see how each factor correlates with the outcome of the match ('winner') ###"
   ]
  },
  {
   "cell_type": "code",
   "execution_count": 8,
   "metadata": {},
   "outputs": [
    {
     "data": {
      "text/plain": [
       "<matplotlib.axes._subplots.AxesSubplot at 0x7ff042087588>"
      ]
     },
     "execution_count": 8,
     "metadata": {},
     "output_type": "execute_result"
    },
    {
     "data": {
      "image/png": "[encoded data removed]",
      "text/plain": [
       "<matplotlib.figure.Figure at 0x7ff0420ab630>"
      ]
     },
     "metadata": {},
     "output_type": "display_data"
    }
   ],
   "source": [
    "fig = plt.figure(figsize=(10,10))\n",
    "sns.heatmap(data[['t1_towerKills','t1_inhibitorKills','t1_dragonKills','t1_baronKills',\n",
    "                  't2_towerKills','t2_inhibitorKills','t2_dragonKills','t2_baronKills','winner']].corr(),annot=True,square=True)"
   ]
  },
  {
   "cell_type": "markdown",
   "metadata": {},
   "source": [
    "From this heat map, we can see that the correlation for each objective is:\n",
    "* towerKills: ~.78\n",
    "* inhibitorKills: ~.65\n",
    "* dragonKills: ~.49\n",
    "* baronKills: ~.40\n",
    "\n",
    "Given these numbers, our strongest model should come from looking at tower and inhibitor kills, but we will test the dragon and baron kills as well to be certain."
   ]
  },
  {
   "cell_type": "markdown",
   "metadata": {},
   "source": [
    "### Split the data ###\n",
    "We want to split our data into a set that we train the model on and a set we test the model with. Using Scikit-learn (a Python machine learning library made by a bunch of really smart people), we can split our data so that we train on the majority (67%) and test the rest to see how we do."
   ]
  },
  {
   "cell_type": "code",
   "execution_count": 9,
   "metadata": {},
   "outputs": [],
   "source": [
    "from sklearn.model_selection import train_test_split"
   ]
  },
  {
   "cell_type": "code",
   "execution_count": 10,
   "metadata": {},
   "outputs": [],
   "source": [
    "X = data[['t1_baronKills', 't1_dragonKills', 't2_baronKills', 't2_dragonKills']]\n",
    "y = data['winner']"
   ]
  },
  {
   "cell_type": "code",
   "execution_count": 11,
   "metadata": {},
   "outputs": [],
   "source": [
    "X_train, X_test, y_train, y_test = train_test_split(X, y, test_size=0.33, random_state=101)"
   ]
  },
  {
   "cell_type": "markdown",
   "metadata": {},
   "source": [
    "### Create and train model ###\n",
    "With our data split, we can create a logistic regression model and fit it to our training data"
   ]
  },
  {
   "cell_type": "code",
   "execution_count": 12,
   "metadata": {},
   "outputs": [
    {
     "data": {
      "text/plain": [
       "LogisticRegression(C=1.0, class_weight=None, dual=False, fit_intercept=True,\n",
       "          intercept_scaling=1, max_iter=100, multi_class='ovr', n_jobs=1,\n",
       "          penalty='l2', random_state=None, solver='liblinear', tol=0.0001,\n",
       "          verbose=0, warm_start=False)"
      ]
     },
     "execution_count": 12,
     "metadata": {},
     "output_type": "execute_result"
    }
   ],
   "source": [
    "from sklearn.linear_model import LogisticRegression\n",
    "logmodel = LogisticRegression()\n",
    "logmodel.fit(X_train, y_train)"
   ]
  },
  {
   "cell_type": "code",
   "execution_count": 13,
   "metadata": {},
   "outputs": [],
   "source": [
    "predictions = logmodel.predict(X_test)"
   ]
  },
  {
   "cell_type": "markdown",
   "metadata": {},
   "source": [
    "### Evaluate our Model ###\n",
    "Now that we have a model, we can see how well we predicted the outcomes of the matches"
   ]
  },
  {
   "cell_type": "code",
   "execution_count": 14,
   "metadata": {},
   "outputs": [],
   "source": [
    "from sklearn.metrics import classification_report"
   ]
  },
  {
   "cell_type": "code",
   "execution_count": 15,
   "metadata": {},
   "outputs": [
    {
     "name": "stdout",
     "output_type": "stream",
     "text": [
      "             precision    recall  f1-score   support\n",
      "\n",
      "          1       0.85      0.83      0.84      4910\n",
      "          2       0.84      0.86      0.85      5171\n",
      "\n",
      "avg / total       0.84      0.84      0.84     10081\n",
      "\n"
     ]
    }
   ],
   "source": [
    "print(classification_report(y_test, predictions))"
   ]
  },
  {
   "cell_type": "markdown",
   "metadata": {},
   "source": [
    "Our model was right about 83% of the time. Not too bad, but we can do better!"
   ]
  },
  {
   "cell_type": "markdown",
   "metadata": {},
   "source": [
    "### Now, let's try it with the tower and inhibitor kills data ###"
   ]
  },
  {
   "cell_type": "code",
   "execution_count": 16,
   "metadata": {},
   "outputs": [],
   "source": [
    "X = data[['t1_towerKills','t1_inhibitorKills','t2_towerKills','t2_inhibitorKills']]\n",
    "y = data['winner']"
   ]
  },
  {
   "cell_type": "code",
   "execution_count": 17,
   "metadata": {},
   "outputs": [],
   "source": [
    "X_train, X_test, y_train, y_test = train_test_split(X, y, test_size=0.33, random_state=101)"
   ]
  },
  {
   "cell_type": "code",
   "execution_count": 18,
   "metadata": {},
   "outputs": [
    {
     "data": {
      "text/plain": [
       "LogisticRegression(C=1.0, class_weight=None, dual=False, fit_intercept=True,\n",
       "          intercept_scaling=1, max_iter=100, multi_class='ovr', n_jobs=1,\n",
       "          penalty='l2', random_state=None, solver='liblinear', tol=0.0001,\n",
       "          verbose=0, warm_start=False)"
      ]
     },
     "execution_count": 18,
     "metadata": {},
     "output_type": "execute_result"
    }
   ],
   "source": [
    "logmodel = LogisticRegression()\n",
    "logmodel.fit(X_train, y_train)"
   ]
  },
  {
   "cell_type": "code",
   "execution_count": 19,
   "metadata": {},
   "outputs": [],
   "source": [
    "predictions = logmodel.predict(X_test)"
   ]
  },
  {
   "cell_type": "code",
   "execution_count": 20,
   "metadata": {},
   "outputs": [
    {
     "name": "stdout",
     "output_type": "stream",
     "text": [
      "             precision    recall  f1-score   support\n",
      "\n",
      "          1       0.96      0.95      0.95      4910\n",
      "          2       0.96      0.96      0.96      5171\n",
      "\n",
      "avg / total       0.96      0.96      0.96     10081\n",
      "\n"
     ]
    }
   ],
   "source": [
    "print(classification_report(y_test, predictions))"
   ]
  },
  {
   "cell_type": "markdown",
   "metadata": {},
   "source": [
    "96% is much better! This shows that the number of towers and inhibitors a team takes is a much better indicator of whether or not they are going to win the match. Lastly, let's try combining all of these variables into one model, maybe it will yield slightly better results."
   ]
  },
  {
   "cell_type": "markdown",
   "metadata": {},
   "source": [
    "### Let's create a function to streamline the process from now on: ###"
   ]
  },
  {
   "cell_type": "code",
   "execution_count": 21,
   "metadata": {},
   "outputs": [],
   "source": [
    "def logRegModel(X, y):\n",
    "    '''\n",
    "    X: data used to predict outcome\n",
    "    y: outcome data\n",
    "    \n",
    "    function used to split data into train and test sections,\n",
    "    create a logistic regression model, and train the model\n",
    "    with the train data. Finally, the function will print\n",
    "    a classification report to results.\n",
    "    '''\n",
    "\n",
    "    # Split the data (X, y)\n",
    "    X_train, X_test, y_train, y_test = train_test_split(X, y, test_size=0.33, random_state=101)\n",
    "\n",
    "    # Create and train model\n",
    "    logmodel = LogisticRegression()\n",
    "    logmodel.fit(X_train, y_train)\n",
    "    predictions = logmodel.predict(X_test)\n",
    "\n",
    "    # Evaluate the model\n",
    "    print(classification_report(y_test, predictions))"
   ]
  },
  {
   "cell_type": "code",
   "execution_count": 22,
   "metadata": {},
   "outputs": [],
   "source": [
    "X = data[['t1_baronKills', 't1_dragonKills', 't2_baronKills', 't2_dragonKills',\n",
    "         't1_towerKills','t1_inhibitorKills','t2_towerKills','t2_inhibitorKills']]\n",
    "y = data['winner']"
   ]
  },
  {
   "cell_type": "code",
   "execution_count": 23,
   "metadata": {},
   "outputs": [
    {
     "name": "stdout",
     "output_type": "stream",
     "text": [
      "             precision    recall  f1-score   support\n",
      "\n",
      "          1       0.95      0.96      0.96      4910\n",
      "          2       0.96      0.96      0.96      5171\n",
      "\n",
      "avg / total       0.96      0.96      0.96     10081\n",
      "\n"
     ]
    }
   ],
   "source": [
    "logRegModel(X, y)"
   ]
  },
  {
   "cell_type": "markdown",
   "metadata": {},
   "source": [
    "Nothing changed, which is reasonable considering we already had a pretty solid model from the previous variables. And, given the low correlation of the added variables in this model, we wouldn't expect much of a difference from the extra data."
   ]
  },
  {
   "cell_type": "markdown",
   "metadata": {},
   "source": [
    "## Thanks for joining me in this analysis! I'd love to hear any feedback as I am pretty new to all of this and am open to any suggestions! -Jay"
   ]
  }
 ],
 "metadata": {
  "kernelspec": {
   "display_name": "Python 3",
   "language": "python",
   "name": "python3"
  },
  "language_info": {
   "codemirror_mode": {
    "name": "ipython",
    "version": 3
   },
   "file_extension": ".py",
   "mimetype": "text/x-python",
   "name": "python",
   "nbconvert_exporter": "python",
   "pygments_lexer": "ipython3",
   "version": "3.6.2"
  }
 },
 "nbformat": 4,
 "nbformat_minor": 2
}
